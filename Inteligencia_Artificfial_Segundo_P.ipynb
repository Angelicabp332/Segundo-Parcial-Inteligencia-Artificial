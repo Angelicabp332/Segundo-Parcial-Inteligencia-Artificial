{
 "cells": [
  {
   "cell_type": "markdown",
   "id": "17ff0187",
   "metadata": {},
   "source": [
    "## Maria Angelica Becerra - T00054451"
   ]
  },
  {
   "cell_type": "code",
   "execution_count": 155,
   "id": "f7e0661c",
   "metadata": {},
   "outputs": [],
   "source": [
    "import io\n",
    "import sys\n",
    "import os\n",
    "import pandas as pd\n",
    "from statistics import mean\n",
    "from sklearn.linear_model import LogisticRegression\n",
    "from sklearn.metrics import classification_report\n",
    "from sklearn.metrics import accuracy_score, recall_score, f1_score, precision_score\n",
    "PATH = '/Users/Salas de Informática/Downloads/'\n",
    "DIR_DATA = '../Data/'\n",
    "sys.path.append(PATH) if PATH not in list(sys.path) else None\n",
    "filename = DIR_DATA + 'test_diabetes.csv'"
   ]
  },
  {
   "cell_type": "code",
   "execution_count": 116,
   "id": "be6ef137",
   "metadata": {},
   "outputs": [
    {
     "name": "stdout",
     "output_type": "stream",
     "text": [
      "/usr/lib/python3/dist-packages/secretstorage/dhcrypto.py:15: CryptographyDeprecationWarning: int_from_bytes is deprecated, use int.from_bytes instead\n",
      "  from cryptography.utils import int_from_bytes\n",
      "/usr/lib/python3/dist-packages/secretstorage/util.py:19: CryptographyDeprecationWarning: int_from_bytes is deprecated, use int.from_bytes instead\n",
      "  from cryptography.utils import int_from_bytes\n",
      "Requirement already satisfied: plotly in /home/student06/.local/lib/python3.8/site-packages (5.6.0)\n",
      "Requirement already satisfied: tenacity>=6.2.0 in /usr/local/lib/python3.8/dist-packages (from plotly) (7.0.0)\n",
      "Requirement already satisfied: six in /usr/local/lib/python3.8/dist-packages (from plotly) (1.16.0)\n",
      "Note: you may need to restart the kernel to use updated packages.\n"
     ]
    }
   ],
   "source": [
    "pip install plotly"
   ]
  },
  {
   "cell_type": "code",
   "execution_count": 117,
   "id": "98aedc7b",
   "metadata": {},
   "outputs": [],
   "source": [
    "import matplotlib.pyplot as plt\n",
    "import numpy as np\n",
    "import pandas as pd\n",
    "from sklearn import datasets, linear_model\n",
    "from sklearn.metrics import mean_squared_error, r2_score\n",
    "import pandas as pd \n",
    "import matplotlib.pyplot as plt\n",
    "import plotly.express as px"
   ]
  },
  {
   "cell_type": "code",
   "execution_count": 118,
   "id": "b82a0ee3",
   "metadata": {},
   "outputs": [],
   "source": [
    "# Load the diabetes dataset\n",
    "test_diabetes, train_diabetes = datasets.load_diabetes(return_X_y=True)"
   ]
  },
  {
   "cell_type": "code",
   "execution_count": 119,
   "id": "c84e5dce",
   "metadata": {},
   "outputs": [
    {
     "data": {
      "text/html": [
       "<div>\n",
       "<style scoped>\n",
       "    .dataframe tbody tr th:only-of-type {\n",
       "        vertical-align: middle;\n",
       "    }\n",
       "\n",
       "    .dataframe tbody tr th {\n",
       "        vertical-align: top;\n",
       "    }\n",
       "\n",
       "    .dataframe thead th {\n",
       "        text-align: right;\n",
       "    }\n",
       "</style>\n",
       "<table border=\"1\" class=\"dataframe\">\n",
       "  <thead>\n",
       "    <tr style=\"text-align: right;\">\n",
       "      <th></th>\n",
       "      <th>0</th>\n",
       "    </tr>\n",
       "  </thead>\n",
       "  <tbody>\n",
       "    <tr>\n",
       "      <th>0</th>\n",
       "      <td>151.0</td>\n",
       "    </tr>\n",
       "    <tr>\n",
       "      <th>1</th>\n",
       "      <td>75.0</td>\n",
       "    </tr>\n",
       "    <tr>\n",
       "      <th>2</th>\n",
       "      <td>141.0</td>\n",
       "    </tr>\n",
       "    <tr>\n",
       "      <th>3</th>\n",
       "      <td>206.0</td>\n",
       "    </tr>\n",
       "    <tr>\n",
       "      <th>4</th>\n",
       "      <td>135.0</td>\n",
       "    </tr>\n",
       "  </tbody>\n",
       "</table>\n",
       "</div>"
      ],
      "text/plain": [
       "       0\n",
       "0  151.0\n",
       "1   75.0\n",
       "2  141.0\n",
       "3  206.0\n",
       "4  135.0"
      ]
     },
     "execution_count": 119,
     "metadata": {},
     "output_type": "execute_result"
    }
   ],
   "source": [
    "df_train = pd.DataFrame(train_diabetes)\n",
    "df_train.head()"
   ]
  },
  {
   "cell_type": "code",
   "execution_count": 120,
   "id": "7ec1607d",
   "metadata": {},
   "outputs": [
    {
     "data": {
      "text/html": [
       "<div>\n",
       "<style scoped>\n",
       "    .dataframe tbody tr th:only-of-type {\n",
       "        vertical-align: middle;\n",
       "    }\n",
       "\n",
       "    .dataframe tbody tr th {\n",
       "        vertical-align: top;\n",
       "    }\n",
       "\n",
       "    .dataframe thead th {\n",
       "        text-align: right;\n",
       "    }\n",
       "</style>\n",
       "<table border=\"1\" class=\"dataframe\">\n",
       "  <thead>\n",
       "    <tr style=\"text-align: right;\">\n",
       "      <th></th>\n",
       "      <th>0</th>\n",
       "    </tr>\n",
       "  </thead>\n",
       "  <tbody>\n",
       "    <tr>\n",
       "      <th>count</th>\n",
       "      <td>442.000000</td>\n",
       "    </tr>\n",
       "    <tr>\n",
       "      <th>mean</th>\n",
       "      <td>152.133484</td>\n",
       "    </tr>\n",
       "    <tr>\n",
       "      <th>std</th>\n",
       "      <td>77.093005</td>\n",
       "    </tr>\n",
       "    <tr>\n",
       "      <th>min</th>\n",
       "      <td>25.000000</td>\n",
       "    </tr>\n",
       "    <tr>\n",
       "      <th>25%</th>\n",
       "      <td>87.000000</td>\n",
       "    </tr>\n",
       "    <tr>\n",
       "      <th>50%</th>\n",
       "      <td>140.500000</td>\n",
       "    </tr>\n",
       "    <tr>\n",
       "      <th>75%</th>\n",
       "      <td>211.500000</td>\n",
       "    </tr>\n",
       "    <tr>\n",
       "      <th>max</th>\n",
       "      <td>346.000000</td>\n",
       "    </tr>\n",
       "  </tbody>\n",
       "</table>\n",
       "</div>"
      ],
      "text/plain": [
       "                0\n",
       "count  442.000000\n",
       "mean   152.133484\n",
       "std     77.093005\n",
       "min     25.000000\n",
       "25%     87.000000\n",
       "50%    140.500000\n",
       "75%    211.500000\n",
       "max    346.000000"
      ]
     },
     "execution_count": 120,
     "metadata": {},
     "output_type": "execute_result"
    }
   ],
   "source": [
    "df_train.describe()"
   ]
  },
  {
   "cell_type": "code",
   "execution_count": 121,
   "id": "18ee3670",
   "metadata": {},
   "outputs": [
    {
     "data": {
      "text/plain": [
       "array([[ 0.03807591,  0.05068012,  0.06169621, ..., -0.00259226,\n",
       "         0.01990842, -0.01764613],\n",
       "       [-0.00188202, -0.04464164, -0.05147406, ..., -0.03949338,\n",
       "        -0.06832974, -0.09220405],\n",
       "       [ 0.08529891,  0.05068012,  0.04445121, ..., -0.00259226,\n",
       "         0.00286377, -0.02593034],\n",
       "       ...,\n",
       "       [ 0.04170844,  0.05068012, -0.01590626, ..., -0.01107952,\n",
       "        -0.04687948,  0.01549073],\n",
       "       [-0.04547248, -0.04464164,  0.03906215, ...,  0.02655962,\n",
       "         0.04452837, -0.02593034],\n",
       "       [-0.04547248, -0.04464164, -0.0730303 , ..., -0.03949338,\n",
       "        -0.00421986,  0.00306441]])"
      ]
     },
     "execution_count": 121,
     "metadata": {},
     "output_type": "execute_result"
    }
   ],
   "source": [
    "test_diabetes"
   ]
  },
  {
   "cell_type": "code",
   "execution_count": 122,
   "id": "33d9f448",
   "metadata": {},
   "outputs": [],
   "source": [
    "test_diabetes = test_diabetes[:, np.newaxis, 2]"
   ]
  },
  {
   "cell_type": "code",
   "execution_count": 123,
   "id": "b90ca97e",
   "metadata": {},
   "outputs": [],
   "source": [
    "\n",
    "diabetes_X_train = test_diabetes[:-20]\n",
    "diabetes_X_test = test_diabetes[-20:]\n",
    "\n",
    "diabetes_y_train = train_diabetes[:-20]\n",
    "diabetes_y_test = train_diabetes[-20:]"
   ]
  },
  {
   "cell_type": "code",
   "execution_count": 124,
   "id": "da030abb",
   "metadata": {},
   "outputs": [
    {
     "data": {
      "text/plain": [
       "(422, 20)"
      ]
     },
     "execution_count": 124,
     "metadata": {},
     "output_type": "execute_result"
    }
   ],
   "source": [
    "len(diabetes_X_train), len(diabetes_X_test)"
   ]
  },
  {
   "cell_type": "code",
   "execution_count": 125,
   "id": "c27554b2",
   "metadata": {},
   "outputs": [
    {
     "data": {
      "text/plain": [
       "Index(['Número embarazos', 'Concentración de glucosa en plasma',\n",
       "       'Presión arterial diastólica', 'Espesor del pliegue cutáneo',\n",
       "       'Insulina sérica', 'Índice de masa corporal',\n",
       "       'Función de pedigrí diabetes', 'Edad', 'Variable clase',\n",
       "       'Distribución clases'],\n",
       "      dtype='object')"
      ]
     },
     "execution_count": 125,
     "metadata": {},
     "output_type": "execute_result"
    }
   ],
   "source": [
    "df.columns = ['Número embarazos',\n",
    "'Concentración de glucosa en plasma'\n",
    ",'Presión arterial diastólica',\n",
    "'Espesor del pliegue cutáneo',\n",
    "'Insulina sérica',\n",
    "'Índice de masa corporal',\n",
    "'Función de pedigrí diabetes',\n",
    "'Edad','Variable clase', 'Distribución clases']\n",
    "df.columns"
   ]
  },
  {
   "cell_type": "code",
   "execution_count": 126,
   "id": "e56c9f11",
   "metadata": {},
   "outputs": [
    {
     "data": {
      "text/html": [
       "<div>\n",
       "<style scoped>\n",
       "    .dataframe tbody tr th:only-of-type {\n",
       "        vertical-align: middle;\n",
       "    }\n",
       "\n",
       "    .dataframe tbody tr th {\n",
       "        vertical-align: top;\n",
       "    }\n",
       "\n",
       "    .dataframe thead th {\n",
       "        text-align: right;\n",
       "    }\n",
       "</style>\n",
       "<table border=\"1\" class=\"dataframe\">\n",
       "  <thead>\n",
       "    <tr style=\"text-align: right;\">\n",
       "      <th></th>\n",
       "      <th>Número embarazos</th>\n",
       "      <th>Concentración de glucosa en plasma</th>\n",
       "      <th>Presión arterial diastólica</th>\n",
       "      <th>Espesor del pliegue cutáneo</th>\n",
       "      <th>Insulina sérica</th>\n",
       "      <th>Índice de masa corporal</th>\n",
       "      <th>Función de pedigrí diabetes</th>\n",
       "      <th>Edad</th>\n",
       "      <th>Variable clase</th>\n",
       "      <th>Distribución clases</th>\n",
       "    </tr>\n",
       "  </thead>\n",
       "  <tbody>\n",
       "    <tr>\n",
       "      <th>0</th>\n",
       "      <td>0.038076</td>\n",
       "      <td>0.050680</td>\n",
       "      <td>0.061696</td>\n",
       "      <td>0.021872</td>\n",
       "      <td>-0.044223</td>\n",
       "      <td>-0.034821</td>\n",
       "      <td>-0.043401</td>\n",
       "      <td>-0.002592</td>\n",
       "      <td>0.019908</td>\n",
       "      <td>-0.017646</td>\n",
       "    </tr>\n",
       "    <tr>\n",
       "      <th>1</th>\n",
       "      <td>-0.001882</td>\n",
       "      <td>-0.044642</td>\n",
       "      <td>-0.051474</td>\n",
       "      <td>-0.026328</td>\n",
       "      <td>-0.008449</td>\n",
       "      <td>-0.019163</td>\n",
       "      <td>0.074412</td>\n",
       "      <td>-0.039493</td>\n",
       "      <td>-0.068330</td>\n",
       "      <td>-0.092204</td>\n",
       "    </tr>\n",
       "    <tr>\n",
       "      <th>2</th>\n",
       "      <td>0.085299</td>\n",
       "      <td>0.050680</td>\n",
       "      <td>0.044451</td>\n",
       "      <td>-0.005671</td>\n",
       "      <td>-0.045599</td>\n",
       "      <td>-0.034194</td>\n",
       "      <td>-0.032356</td>\n",
       "      <td>-0.002592</td>\n",
       "      <td>0.002864</td>\n",
       "      <td>-0.025930</td>\n",
       "    </tr>\n",
       "    <tr>\n",
       "      <th>3</th>\n",
       "      <td>-0.089063</td>\n",
       "      <td>-0.044642</td>\n",
       "      <td>-0.011595</td>\n",
       "      <td>-0.036656</td>\n",
       "      <td>0.012191</td>\n",
       "      <td>0.024991</td>\n",
       "      <td>-0.036038</td>\n",
       "      <td>0.034309</td>\n",
       "      <td>0.022692</td>\n",
       "      <td>-0.009362</td>\n",
       "    </tr>\n",
       "    <tr>\n",
       "      <th>4</th>\n",
       "      <td>0.005383</td>\n",
       "      <td>-0.044642</td>\n",
       "      <td>-0.036385</td>\n",
       "      <td>0.021872</td>\n",
       "      <td>0.003935</td>\n",
       "      <td>0.015596</td>\n",
       "      <td>0.008142</td>\n",
       "      <td>-0.002592</td>\n",
       "      <td>-0.031991</td>\n",
       "      <td>-0.046641</td>\n",
       "    </tr>\n",
       "  </tbody>\n",
       "</table>\n",
       "</div>"
      ],
      "text/plain": [
       "   Número embarazos  Concentración de glucosa en plasma  \\\n",
       "0          0.038076                            0.050680   \n",
       "1         -0.001882                           -0.044642   \n",
       "2          0.085299                            0.050680   \n",
       "3         -0.089063                           -0.044642   \n",
       "4          0.005383                           -0.044642   \n",
       "\n",
       "   Presión arterial diastólica  Espesor del pliegue cutáneo  Insulina sérica  \\\n",
       "0                     0.061696                     0.021872        -0.044223   \n",
       "1                    -0.051474                    -0.026328        -0.008449   \n",
       "2                     0.044451                    -0.005671        -0.045599   \n",
       "3                    -0.011595                    -0.036656         0.012191   \n",
       "4                    -0.036385                     0.021872         0.003935   \n",
       "\n",
       "   Índice de masa corporal  Función de pedigrí diabetes      Edad  \\\n",
       "0                -0.034821                    -0.043401 -0.002592   \n",
       "1                -0.019163                     0.074412 -0.039493   \n",
       "2                -0.034194                    -0.032356 -0.002592   \n",
       "3                 0.024991                    -0.036038  0.034309   \n",
       "4                 0.015596                     0.008142 -0.002592   \n",
       "\n",
       "   Variable clase  Distribución clases  \n",
       "0        0.019908            -0.017646  \n",
       "1       -0.068330            -0.092204  \n",
       "2        0.002864            -0.025930  \n",
       "3        0.022692            -0.009362  \n",
       "4       -0.031991            -0.046641  "
      ]
     },
     "execution_count": 126,
     "metadata": {},
     "output_type": "execute_result"
    }
   ],
   "source": [
    "df.head()"
   ]
  },
  {
   "cell_type": "code",
   "execution_count": 127,
   "id": "466c8bb5",
   "metadata": {},
   "outputs": [
    {
     "data": {
      "application/vnd.plotly.v1+json": {
       "config": {
        "plotlyServerURL": "https://plot.ly"
       },
       "data": [
        {
         "domain": {
          "x": [
           0,
           1
          ],
          "y": [
           0,
           1
          ]
         },
         "hole": 0.4,
         "hovertemplate": "label=%{label}<br>Concentración de glucosa en plasma=%{value}<extra></extra>",
         "labels": [
          "Diabetes tipo 1",
          "Diabetes tipo 2"
         ],
         "legendgroup": "",
         "name": "",
         "opacity": 0.8,
         "showlegend": true,
         "textinfo": "percent+label",
         "textposition": "outside",
         "type": "pie",
         "values": [
          235,
          207
         ]
        }
       ],
       "layout": {
        "legend": {
         "tracegroupgap": 0
        },
        "margin": {
         "t": 60
        },
        "template": {
         "data": {
          "bar": [
           {
            "error_x": {
             "color": "#2a3f5f"
            },
            "error_y": {
             "color": "#2a3f5f"
            },
            "marker": {
             "line": {
              "color": "#E5ECF6",
              "width": 0.5
             },
             "pattern": {
              "fillmode": "overlay",
              "size": 10,
              "solidity": 0.2
             }
            },
            "type": "bar"
           }
          ],
          "barpolar": [
           {
            "marker": {
             "line": {
              "color": "#E5ECF6",
              "width": 0.5
             },
             "pattern": {
              "fillmode": "overlay",
              "size": 10,
              "solidity": 0.2
             }
            },
            "type": "barpolar"
           }
          ],
          "carpet": [
           {
            "aaxis": {
             "endlinecolor": "#2a3f5f",
             "gridcolor": "white",
             "linecolor": "white",
             "minorgridcolor": "white",
             "startlinecolor": "#2a3f5f"
            },
            "baxis": {
             "endlinecolor": "#2a3f5f",
             "gridcolor": "white",
             "linecolor": "white",
             "minorgridcolor": "white",
             "startlinecolor": "#2a3f5f"
            },
            "type": "carpet"
           }
          ],
          "choropleth": [
           {
            "colorbar": {
             "outlinewidth": 0,
             "ticks": ""
            },
            "type": "choropleth"
           }
          ],
          "contour": [
           {
            "colorbar": {
             "outlinewidth": 0,
             "ticks": ""
            },
            "colorscale": [
             [
              0,
              "#0d0887"
             ],
             [
              0.1111111111111111,
              "#46039f"
             ],
             [
              0.2222222222222222,
              "#7201a8"
             ],
             [
              0.3333333333333333,
              "#9c179e"
             ],
             [
              0.4444444444444444,
              "#bd3786"
             ],
             [
              0.5555555555555556,
              "#d8576b"
             ],
             [
              0.6666666666666666,
              "#ed7953"
             ],
             [
              0.7777777777777778,
              "#fb9f3a"
             ],
             [
              0.8888888888888888,
              "#fdca26"
             ],
             [
              1,
              "#f0f921"
             ]
            ],
            "type": "contour"
           }
          ],
          "contourcarpet": [
           {
            "colorbar": {
             "outlinewidth": 0,
             "ticks": ""
            },
            "type": "contourcarpet"
           }
          ],
          "heatmap": [
           {
            "colorbar": {
             "outlinewidth": 0,
             "ticks": ""
            },
            "colorscale": [
             [
              0,
              "#0d0887"
             ],
             [
              0.1111111111111111,
              "#46039f"
             ],
             [
              0.2222222222222222,
              "#7201a8"
             ],
             [
              0.3333333333333333,
              "#9c179e"
             ],
             [
              0.4444444444444444,
              "#bd3786"
             ],
             [
              0.5555555555555556,
              "#d8576b"
             ],
             [
              0.6666666666666666,
              "#ed7953"
             ],
             [
              0.7777777777777778,
              "#fb9f3a"
             ],
             [
              0.8888888888888888,
              "#fdca26"
             ],
             [
              1,
              "#f0f921"
             ]
            ],
            "type": "heatmap"
           }
          ],
          "heatmapgl": [
           {
            "colorbar": {
             "outlinewidth": 0,
             "ticks": ""
            },
            "colorscale": [
             [
              0,
              "#0d0887"
             ],
             [
              0.1111111111111111,
              "#46039f"
             ],
             [
              0.2222222222222222,
              "#7201a8"
             ],
             [
              0.3333333333333333,
              "#9c179e"
             ],
             [
              0.4444444444444444,
              "#bd3786"
             ],
             [
              0.5555555555555556,
              "#d8576b"
             ],
             [
              0.6666666666666666,
              "#ed7953"
             ],
             [
              0.7777777777777778,
              "#fb9f3a"
             ],
             [
              0.8888888888888888,
              "#fdca26"
             ],
             [
              1,
              "#f0f921"
             ]
            ],
            "type": "heatmapgl"
           }
          ],
          "histogram": [
           {
            "marker": {
             "pattern": {
              "fillmode": "overlay",
              "size": 10,
              "solidity": 0.2
             }
            },
            "type": "histogram"
           }
          ],
          "histogram2d": [
           {
            "colorbar": {
             "outlinewidth": 0,
             "ticks": ""
            },
            "colorscale": [
             [
              0,
              "#0d0887"
             ],
             [
              0.1111111111111111,
              "#46039f"
             ],
             [
              0.2222222222222222,
              "#7201a8"
             ],
             [
              0.3333333333333333,
              "#9c179e"
             ],
             [
              0.4444444444444444,
              "#bd3786"
             ],
             [
              0.5555555555555556,
              "#d8576b"
             ],
             [
              0.6666666666666666,
              "#ed7953"
             ],
             [
              0.7777777777777778,
              "#fb9f3a"
             ],
             [
              0.8888888888888888,
              "#fdca26"
             ],
             [
              1,
              "#f0f921"
             ]
            ],
            "type": "histogram2d"
           }
          ],
          "histogram2dcontour": [
           {
            "colorbar": {
             "outlinewidth": 0,
             "ticks": ""
            },
            "colorscale": [
             [
              0,
              "#0d0887"
             ],
             [
              0.1111111111111111,
              "#46039f"
             ],
             [
              0.2222222222222222,
              "#7201a8"
             ],
             [
              0.3333333333333333,
              "#9c179e"
             ],
             [
              0.4444444444444444,
              "#bd3786"
             ],
             [
              0.5555555555555556,
              "#d8576b"
             ],
             [
              0.6666666666666666,
              "#ed7953"
             ],
             [
              0.7777777777777778,
              "#fb9f3a"
             ],
             [
              0.8888888888888888,
              "#fdca26"
             ],
             [
              1,
              "#f0f921"
             ]
            ],
            "type": "histogram2dcontour"
           }
          ],
          "mesh3d": [
           {
            "colorbar": {
             "outlinewidth": 0,
             "ticks": ""
            },
            "type": "mesh3d"
           }
          ],
          "parcoords": [
           {
            "line": {
             "colorbar": {
              "outlinewidth": 0,
              "ticks": ""
             }
            },
            "type": "parcoords"
           }
          ],
          "pie": [
           {
            "automargin": true,
            "type": "pie"
           }
          ],
          "scatter": [
           {
            "marker": {
             "colorbar": {
              "outlinewidth": 0,
              "ticks": ""
             }
            },
            "type": "scatter"
           }
          ],
          "scatter3d": [
           {
            "line": {
             "colorbar": {
              "outlinewidth": 0,
              "ticks": ""
             }
            },
            "marker": {
             "colorbar": {
              "outlinewidth": 0,
              "ticks": ""
             }
            },
            "type": "scatter3d"
           }
          ],
          "scattercarpet": [
           {
            "marker": {
             "colorbar": {
              "outlinewidth": 0,
              "ticks": ""
             }
            },
            "type": "scattercarpet"
           }
          ],
          "scattergeo": [
           {
            "marker": {
             "colorbar": {
              "outlinewidth": 0,
              "ticks": ""
             }
            },
            "type": "scattergeo"
           }
          ],
          "scattergl": [
           {
            "marker": {
             "colorbar": {
              "outlinewidth": 0,
              "ticks": ""
             }
            },
            "type": "scattergl"
           }
          ],
          "scattermapbox": [
           {
            "marker": {
             "colorbar": {
              "outlinewidth": 0,
              "ticks": ""
             }
            },
            "type": "scattermapbox"
           }
          ],
          "scatterpolar": [
           {
            "marker": {
             "colorbar": {
              "outlinewidth": 0,
              "ticks": ""
             }
            },
            "type": "scatterpolar"
           }
          ],
          "scatterpolargl": [
           {
            "marker": {
             "colorbar": {
              "outlinewidth": 0,
              "ticks": ""
             }
            },
            "type": "scatterpolargl"
           }
          ],
          "scatterternary": [
           {
            "marker": {
             "colorbar": {
              "outlinewidth": 0,
              "ticks": ""
             }
            },
            "type": "scatterternary"
           }
          ],
          "surface": [
           {
            "colorbar": {
             "outlinewidth": 0,
             "ticks": ""
            },
            "colorscale": [
             [
              0,
              "#0d0887"
             ],
             [
              0.1111111111111111,
              "#46039f"
             ],
             [
              0.2222222222222222,
              "#7201a8"
             ],
             [
              0.3333333333333333,
              "#9c179e"
             ],
             [
              0.4444444444444444,
              "#bd3786"
             ],
             [
              0.5555555555555556,
              "#d8576b"
             ],
             [
              0.6666666666666666,
              "#ed7953"
             ],
             [
              0.7777777777777778,
              "#fb9f3a"
             ],
             [
              0.8888888888888888,
              "#fdca26"
             ],
             [
              1,
              "#f0f921"
             ]
            ],
            "type": "surface"
           }
          ],
          "table": [
           {
            "cells": {
             "fill": {
              "color": "#EBF0F8"
             },
             "line": {
              "color": "white"
             }
            },
            "header": {
             "fill": {
              "color": "#C8D4E3"
             },
             "line": {
              "color": "white"
             }
            },
            "type": "table"
           }
          ]
         },
         "layout": {
          "annotationdefaults": {
           "arrowcolor": "#2a3f5f",
           "arrowhead": 0,
           "arrowwidth": 1
          },
          "autotypenumbers": "strict",
          "coloraxis": {
           "colorbar": {
            "outlinewidth": 0,
            "ticks": ""
           }
          },
          "colorscale": {
           "diverging": [
            [
             0,
             "#8e0152"
            ],
            [
             0.1,
             "#c51b7d"
            ],
            [
             0.2,
             "#de77ae"
            ],
            [
             0.3,
             "#f1b6da"
            ],
            [
             0.4,
             "#fde0ef"
            ],
            [
             0.5,
             "#f7f7f7"
            ],
            [
             0.6,
             "#e6f5d0"
            ],
            [
             0.7,
             "#b8e186"
            ],
            [
             0.8,
             "#7fbc41"
            ],
            [
             0.9,
             "#4d9221"
            ],
            [
             1,
             "#276419"
            ]
           ],
           "sequential": [
            [
             0,
             "#0d0887"
            ],
            [
             0.1111111111111111,
             "#46039f"
            ],
            [
             0.2222222222222222,
             "#7201a8"
            ],
            [
             0.3333333333333333,
             "#9c179e"
            ],
            [
             0.4444444444444444,
             "#bd3786"
            ],
            [
             0.5555555555555556,
             "#d8576b"
            ],
            [
             0.6666666666666666,
             "#ed7953"
            ],
            [
             0.7777777777777778,
             "#fb9f3a"
            ],
            [
             0.8888888888888888,
             "#fdca26"
            ],
            [
             1,
             "#f0f921"
            ]
           ],
           "sequentialminus": [
            [
             0,
             "#0d0887"
            ],
            [
             0.1111111111111111,
             "#46039f"
            ],
            [
             0.2222222222222222,
             "#7201a8"
            ],
            [
             0.3333333333333333,
             "#9c179e"
            ],
            [
             0.4444444444444444,
             "#bd3786"
            ],
            [
             0.5555555555555556,
             "#d8576b"
            ],
            [
             0.6666666666666666,
             "#ed7953"
            ],
            [
             0.7777777777777778,
             "#fb9f3a"
            ],
            [
             0.8888888888888888,
             "#fdca26"
            ],
            [
             1,
             "#f0f921"
            ]
           ]
          },
          "colorway": [
           "#636efa",
           "#EF553B",
           "#00cc96",
           "#ab63fa",
           "#FFA15A",
           "#19d3f3",
           "#FF6692",
           "#B6E880",
           "#FF97FF",
           "#FECB52"
          ],
          "font": {
           "color": "#2a3f5f"
          },
          "geo": {
           "bgcolor": "white",
           "lakecolor": "white",
           "landcolor": "#E5ECF6",
           "showlakes": true,
           "showland": true,
           "subunitcolor": "white"
          },
          "hoverlabel": {
           "align": "left"
          },
          "hovermode": "closest",
          "mapbox": {
           "style": "light"
          },
          "paper_bgcolor": "white",
          "plot_bgcolor": "#E5ECF6",
          "polar": {
           "angularaxis": {
            "gridcolor": "white",
            "linecolor": "white",
            "ticks": ""
           },
           "bgcolor": "#E5ECF6",
           "radialaxis": {
            "gridcolor": "white",
            "linecolor": "white",
            "ticks": ""
           }
          },
          "scene": {
           "xaxis": {
            "backgroundcolor": "#E5ECF6",
            "gridcolor": "white",
            "gridwidth": 2,
            "linecolor": "white",
            "showbackground": true,
            "ticks": "",
            "zerolinecolor": "white"
           },
           "yaxis": {
            "backgroundcolor": "#E5ECF6",
            "gridcolor": "white",
            "gridwidth": 2,
            "linecolor": "white",
            "showbackground": true,
            "ticks": "",
            "zerolinecolor": "white"
           },
           "zaxis": {
            "backgroundcolor": "#E5ECF6",
            "gridcolor": "white",
            "gridwidth": 2,
            "linecolor": "white",
            "showbackground": true,
            "ticks": "",
            "zerolinecolor": "white"
           }
          },
          "shapedefaults": {
           "line": {
            "color": "#2a3f5f"
           }
          },
          "ternary": {
           "aaxis": {
            "gridcolor": "white",
            "linecolor": "white",
            "ticks": ""
           },
           "baxis": {
            "gridcolor": "white",
            "linecolor": "white",
            "ticks": ""
           },
           "bgcolor": "#E5ECF6",
           "caxis": {
            "gridcolor": "white",
            "linecolor": "white",
            "ticks": ""
           }
          },
          "title": {
           "x": 0.05
          },
          "xaxis": {
           "automargin": true,
           "gridcolor": "white",
           "linecolor": "white",
           "ticks": "",
           "title": {
            "standoff": 15
           },
           "zerolinecolor": "white",
           "zerolinewidth": 2
          },
          "yaxis": {
           "automargin": true,
           "gridcolor": "white",
           "linecolor": "white",
           "ticks": "",
           "title": {
            "standoff": 15
           },
           "zerolinecolor": "white",
           "zerolinewidth": 2
          }
         }
        },
        "title": {
         "text": "Pie Chart of Potability Feature"
        }
       }
      },
      "text/html": [
       "<div>                            <div id=\"8faeb0c5-3a70-46d6-b696-d9779e5f6fa8\" class=\"plotly-graph-div\" style=\"height:525px; width:100%;\"></div>            <script type=\"text/javascript\">                require([\"plotly\"], function(Plotly) {                    window.PLOTLYENV=window.PLOTLYENV || {};                                    if (document.getElementById(\"8faeb0c5-3a70-46d6-b696-d9779e5f6fa8\")) {                    Plotly.newPlot(                        \"8faeb0c5-3a70-46d6-b696-d9779e5f6fa8\",                        [{\"domain\":{\"x\":[0.0,1.0],\"y\":[0.0,1.0]},\"hole\":0.4,\"hovertemplate\":\"label=%{label}<br>Concentraci\\u00f3n de glucosa en plasma=%{value}<extra></extra>\",\"labels\":[\"Diabetes tipo 1\",\"Diabetes tipo 2\"],\"legendgroup\":\"\",\"name\":\"\",\"opacity\":0.8,\"showlegend\":true,\"values\":[235,207],\"type\":\"pie\",\"textinfo\":\"percent+label\",\"textposition\":\"outside\"}],                        {\"template\":{\"data\":{\"bar\":[{\"error_x\":{\"color\":\"#2a3f5f\"},\"error_y\":{\"color\":\"#2a3f5f\"},\"marker\":{\"line\":{\"color\":\"#E5ECF6\",\"width\":0.5},\"pattern\":{\"fillmode\":\"overlay\",\"size\":10,\"solidity\":0.2}},\"type\":\"bar\"}],\"barpolar\":[{\"marker\":{\"line\":{\"color\":\"#E5ECF6\",\"width\":0.5},\"pattern\":{\"fillmode\":\"overlay\",\"size\":10,\"solidity\":0.2}},\"type\":\"barpolar\"}],\"carpet\":[{\"aaxis\":{\"endlinecolor\":\"#2a3f5f\",\"gridcolor\":\"white\",\"linecolor\":\"white\",\"minorgridcolor\":\"white\",\"startlinecolor\":\"#2a3f5f\"},\"baxis\":{\"endlinecolor\":\"#2a3f5f\",\"gridcolor\":\"white\",\"linecolor\":\"white\",\"minorgridcolor\":\"white\",\"startlinecolor\":\"#2a3f5f\"},\"type\":\"carpet\"}],\"choropleth\":[{\"colorbar\":{\"outlinewidth\":0,\"ticks\":\"\"},\"type\":\"choropleth\"}],\"contour\":[{\"colorbar\":{\"outlinewidth\":0,\"ticks\":\"\"},\"colorscale\":[[0.0,\"#0d0887\"],[0.1111111111111111,\"#46039f\"],[0.2222222222222222,\"#7201a8\"],[0.3333333333333333,\"#9c179e\"],[0.4444444444444444,\"#bd3786\"],[0.5555555555555556,\"#d8576b\"],[0.6666666666666666,\"#ed7953\"],[0.7777777777777778,\"#fb9f3a\"],[0.8888888888888888,\"#fdca26\"],[1.0,\"#f0f921\"]],\"type\":\"contour\"}],\"contourcarpet\":[{\"colorbar\":{\"outlinewidth\":0,\"ticks\":\"\"},\"type\":\"contourcarpet\"}],\"heatmap\":[{\"colorbar\":{\"outlinewidth\":0,\"ticks\":\"\"},\"colorscale\":[[0.0,\"#0d0887\"],[0.1111111111111111,\"#46039f\"],[0.2222222222222222,\"#7201a8\"],[0.3333333333333333,\"#9c179e\"],[0.4444444444444444,\"#bd3786\"],[0.5555555555555556,\"#d8576b\"],[0.6666666666666666,\"#ed7953\"],[0.7777777777777778,\"#fb9f3a\"],[0.8888888888888888,\"#fdca26\"],[1.0,\"#f0f921\"]],\"type\":\"heatmap\"}],\"heatmapgl\":[{\"colorbar\":{\"outlinewidth\":0,\"ticks\":\"\"},\"colorscale\":[[0.0,\"#0d0887\"],[0.1111111111111111,\"#46039f\"],[0.2222222222222222,\"#7201a8\"],[0.3333333333333333,\"#9c179e\"],[0.4444444444444444,\"#bd3786\"],[0.5555555555555556,\"#d8576b\"],[0.6666666666666666,\"#ed7953\"],[0.7777777777777778,\"#fb9f3a\"],[0.8888888888888888,\"#fdca26\"],[1.0,\"#f0f921\"]],\"type\":\"heatmapgl\"}],\"histogram\":[{\"marker\":{\"pattern\":{\"fillmode\":\"overlay\",\"size\":10,\"solidity\":0.2}},\"type\":\"histogram\"}],\"histogram2d\":[{\"colorbar\":{\"outlinewidth\":0,\"ticks\":\"\"},\"colorscale\":[[0.0,\"#0d0887\"],[0.1111111111111111,\"#46039f\"],[0.2222222222222222,\"#7201a8\"],[0.3333333333333333,\"#9c179e\"],[0.4444444444444444,\"#bd3786\"],[0.5555555555555556,\"#d8576b\"],[0.6666666666666666,\"#ed7953\"],[0.7777777777777778,\"#fb9f3a\"],[0.8888888888888888,\"#fdca26\"],[1.0,\"#f0f921\"]],\"type\":\"histogram2d\"}],\"histogram2dcontour\":[{\"colorbar\":{\"outlinewidth\":0,\"ticks\":\"\"},\"colorscale\":[[0.0,\"#0d0887\"],[0.1111111111111111,\"#46039f\"],[0.2222222222222222,\"#7201a8\"],[0.3333333333333333,\"#9c179e\"],[0.4444444444444444,\"#bd3786\"],[0.5555555555555556,\"#d8576b\"],[0.6666666666666666,\"#ed7953\"],[0.7777777777777778,\"#fb9f3a\"],[0.8888888888888888,\"#fdca26\"],[1.0,\"#f0f921\"]],\"type\":\"histogram2dcontour\"}],\"mesh3d\":[{\"colorbar\":{\"outlinewidth\":0,\"ticks\":\"\"},\"type\":\"mesh3d\"}],\"parcoords\":[{\"line\":{\"colorbar\":{\"outlinewidth\":0,\"ticks\":\"\"}},\"type\":\"parcoords\"}],\"pie\":[{\"automargin\":true,\"type\":\"pie\"}],\"scatter\":[{\"marker\":{\"colorbar\":{\"outlinewidth\":0,\"ticks\":\"\"}},\"type\":\"scatter\"}],\"scatter3d\":[{\"line\":{\"colorbar\":{\"outlinewidth\":0,\"ticks\":\"\"}},\"marker\":{\"colorbar\":{\"outlinewidth\":0,\"ticks\":\"\"}},\"type\":\"scatter3d\"}],\"scattercarpet\":[{\"marker\":{\"colorbar\":{\"outlinewidth\":0,\"ticks\":\"\"}},\"type\":\"scattercarpet\"}],\"scattergeo\":[{\"marker\":{\"colorbar\":{\"outlinewidth\":0,\"ticks\":\"\"}},\"type\":\"scattergeo\"}],\"scattergl\":[{\"marker\":{\"colorbar\":{\"outlinewidth\":0,\"ticks\":\"\"}},\"type\":\"scattergl\"}],\"scattermapbox\":[{\"marker\":{\"colorbar\":{\"outlinewidth\":0,\"ticks\":\"\"}},\"type\":\"scattermapbox\"}],\"scatterpolar\":[{\"marker\":{\"colorbar\":{\"outlinewidth\":0,\"ticks\":\"\"}},\"type\":\"scatterpolar\"}],\"scatterpolargl\":[{\"marker\":{\"colorbar\":{\"outlinewidth\":0,\"ticks\":\"\"}},\"type\":\"scatterpolargl\"}],\"scatterternary\":[{\"marker\":{\"colorbar\":{\"outlinewidth\":0,\"ticks\":\"\"}},\"type\":\"scatterternary\"}],\"surface\":[{\"colorbar\":{\"outlinewidth\":0,\"ticks\":\"\"},\"colorscale\":[[0.0,\"#0d0887\"],[0.1111111111111111,\"#46039f\"],[0.2222222222222222,\"#7201a8\"],[0.3333333333333333,\"#9c179e\"],[0.4444444444444444,\"#bd3786\"],[0.5555555555555556,\"#d8576b\"],[0.6666666666666666,\"#ed7953\"],[0.7777777777777778,\"#fb9f3a\"],[0.8888888888888888,\"#fdca26\"],[1.0,\"#f0f921\"]],\"type\":\"surface\"}],\"table\":[{\"cells\":{\"fill\":{\"color\":\"#EBF0F8\"},\"line\":{\"color\":\"white\"}},\"header\":{\"fill\":{\"color\":\"#C8D4E3\"},\"line\":{\"color\":\"white\"}},\"type\":\"table\"}]},\"layout\":{\"annotationdefaults\":{\"arrowcolor\":\"#2a3f5f\",\"arrowhead\":0,\"arrowwidth\":1},\"autotypenumbers\":\"strict\",\"coloraxis\":{\"colorbar\":{\"outlinewidth\":0,\"ticks\":\"\"}},\"colorscale\":{\"diverging\":[[0,\"#8e0152\"],[0.1,\"#c51b7d\"],[0.2,\"#de77ae\"],[0.3,\"#f1b6da\"],[0.4,\"#fde0ef\"],[0.5,\"#f7f7f7\"],[0.6,\"#e6f5d0\"],[0.7,\"#b8e186\"],[0.8,\"#7fbc41\"],[0.9,\"#4d9221\"],[1,\"#276419\"]],\"sequential\":[[0.0,\"#0d0887\"],[0.1111111111111111,\"#46039f\"],[0.2222222222222222,\"#7201a8\"],[0.3333333333333333,\"#9c179e\"],[0.4444444444444444,\"#bd3786\"],[0.5555555555555556,\"#d8576b\"],[0.6666666666666666,\"#ed7953\"],[0.7777777777777778,\"#fb9f3a\"],[0.8888888888888888,\"#fdca26\"],[1.0,\"#f0f921\"]],\"sequentialminus\":[[0.0,\"#0d0887\"],[0.1111111111111111,\"#46039f\"],[0.2222222222222222,\"#7201a8\"],[0.3333333333333333,\"#9c179e\"],[0.4444444444444444,\"#bd3786\"],[0.5555555555555556,\"#d8576b\"],[0.6666666666666666,\"#ed7953\"],[0.7777777777777778,\"#fb9f3a\"],[0.8888888888888888,\"#fdca26\"],[1.0,\"#f0f921\"]]},\"colorway\":[\"#636efa\",\"#EF553B\",\"#00cc96\",\"#ab63fa\",\"#FFA15A\",\"#19d3f3\",\"#FF6692\",\"#B6E880\",\"#FF97FF\",\"#FECB52\"],\"font\":{\"color\":\"#2a3f5f\"},\"geo\":{\"bgcolor\":\"white\",\"lakecolor\":\"white\",\"landcolor\":\"#E5ECF6\",\"showlakes\":true,\"showland\":true,\"subunitcolor\":\"white\"},\"hoverlabel\":{\"align\":\"left\"},\"hovermode\":\"closest\",\"mapbox\":{\"style\":\"light\"},\"paper_bgcolor\":\"white\",\"plot_bgcolor\":\"#E5ECF6\",\"polar\":{\"angularaxis\":{\"gridcolor\":\"white\",\"linecolor\":\"white\",\"ticks\":\"\"},\"bgcolor\":\"#E5ECF6\",\"radialaxis\":{\"gridcolor\":\"white\",\"linecolor\":\"white\",\"ticks\":\"\"}},\"scene\":{\"xaxis\":{\"backgroundcolor\":\"#E5ECF6\",\"gridcolor\":\"white\",\"gridwidth\":2,\"linecolor\":\"white\",\"showbackground\":true,\"ticks\":\"\",\"zerolinecolor\":\"white\"},\"yaxis\":{\"backgroundcolor\":\"#E5ECF6\",\"gridcolor\":\"white\",\"gridwidth\":2,\"linecolor\":\"white\",\"showbackground\":true,\"ticks\":\"\",\"zerolinecolor\":\"white\"},\"zaxis\":{\"backgroundcolor\":\"#E5ECF6\",\"gridcolor\":\"white\",\"gridwidth\":2,\"linecolor\":\"white\",\"showbackground\":true,\"ticks\":\"\",\"zerolinecolor\":\"white\"}},\"shapedefaults\":{\"line\":{\"color\":\"#2a3f5f\"}},\"ternary\":{\"aaxis\":{\"gridcolor\":\"white\",\"linecolor\":\"white\",\"ticks\":\"\"},\"baxis\":{\"gridcolor\":\"white\",\"linecolor\":\"white\",\"ticks\":\"\"},\"bgcolor\":\"#E5ECF6\",\"caxis\":{\"gridcolor\":\"white\",\"linecolor\":\"white\",\"ticks\":\"\"}},\"title\":{\"x\":0.05},\"xaxis\":{\"automargin\":true,\"gridcolor\":\"white\",\"linecolor\":\"white\",\"ticks\":\"\",\"title\":{\"standoff\":15},\"zerolinecolor\":\"white\",\"zerolinewidth\":2},\"yaxis\":{\"automargin\":true,\"gridcolor\":\"white\",\"linecolor\":\"white\",\"ticks\":\"\",\"title\":{\"standoff\":15},\"zerolinecolor\":\"white\",\"zerolinewidth\":2}}},\"legend\":{\"tracegroupgap\":0},\"margin\":{\"t\":60},\"title\":{\"text\":\"Pie Chart of Potability Feature\"}},                        {\"responsive\": true}                    ).then(function(){\n",
       "                            \n",
       "var gd = document.getElementById('8faeb0c5-3a70-46d6-b696-d9779e5f6fa8');\n",
       "var x = new MutationObserver(function (mutations, observer) {{\n",
       "        var display = window.getComputedStyle(gd).display;\n",
       "        if (!display || display === 'none') {{\n",
       "            console.log([gd, 'removed!']);\n",
       "            Plotly.purge(gd);\n",
       "            observer.disconnect();\n",
       "        }}\n",
       "}});\n",
       "\n",
       "// Listen for the removal of the full notebook cells\n",
       "var notebookContainer = gd.closest('#notebook-container');\n",
       "if (notebookContainer) {{\n",
       "    x.observe(notebookContainer, {childList: true});\n",
       "}}\n",
       "\n",
       "// Listen for the clearing of the current output cell\n",
       "var outputEl = gd.closest('.output');\n",
       "if (outputEl) {{\n",
       "    x.observe(outputEl, {childList: true});\n",
       "}}\n",
       "\n",
       "                        })                };                });            </script>        </div>"
      ]
     },
     "metadata": {},
     "output_type": "display_data"
    }
   ],
   "source": [
    "d =pd.DataFrame(df[\"Concentración de glucosa en plasma\"].value_counts())\n",
    "fig = px.pie(d, values =\"Concentración de glucosa en plasma\", names=[\"Diabetes tipo 1\", \"Diabetes tipo 2\"], hole = 0.4, opacity=0.8,\n",
    "            labels={\"label\":\"Potability\",\"Potability\":\"Number of Samples\"})\n",
    "fig.update_layout(title = dict(text=\"Pie Chart of Potability Feature\"))\n",
    "fig.update_traces(textposition=\"outside\",textinfo=\"percent+label\")\n",
    "fig.show()"
   ]
  },
  {
   "cell_type": "code",
   "execution_count": 128,
   "id": "b2ef25cc",
   "metadata": {},
   "outputs": [
    {
     "name": "stdout",
     "output_type": "stream",
     "text": [
      "<class 'pandas.core.frame.DataFrame'>\n",
      "RangeIndex: 442 entries, 0 to 441\n",
      "Data columns (total 10 columns):\n",
      "Número embarazos                      442 non-null float64\n",
      "Concentración de glucosa en plasma    442 non-null float64\n",
      "Presión arterial diastólica           442 non-null float64\n",
      "Espesor del pliegue cutáneo           442 non-null float64\n",
      "Insulina sérica                       442 non-null float64\n",
      "Índice de masa corporal               442 non-null float64\n",
      "Función de pedigrí diabetes           442 non-null float64\n",
      "Edad                                  442 non-null float64\n",
      "Variable clase                        442 non-null float64\n",
      "Distribución clases                   442 non-null float64\n",
      "dtypes: float64(10)\n",
      "memory usage: 34.7 KB\n"
     ]
    }
   ],
   "source": [
    "df.info()"
   ]
  },
  {
   "cell_type": "code",
   "execution_count": 129,
   "id": "36357af7",
   "metadata": {},
   "outputs": [
    {
     "data": {
      "text/plain": [
       "LinearRegression()"
      ]
     },
     "execution_count": 129,
     "metadata": {},
     "output_type": "execute_result"
    }
   ],
   "source": [
    "# Create linear regression object\n",
    "regr = linear_model.LinearRegression()\n",
    "# Train the model using the training sets\n",
    "regr.fit(diabetes_X_train, diabetes_y_train)"
   ]
  },
  {
   "cell_type": "code",
   "execution_count": 130,
   "id": "f5617ce1",
   "metadata": {},
   "outputs": [
    {
     "data": {
      "text/plain": [
       "array([225.9732401 , 115.74763374, 163.27610621, 114.73638965,\n",
       "       120.80385422, 158.21988574, 236.08568105, 121.81509832,\n",
       "        99.56772822, 123.83758651, 204.73711411,  96.53399594,\n",
       "       154.17490936, 130.91629517,  83.3878227 , 171.36605897,\n",
       "       137.99500384, 137.99500384, 189.56845268,  84.3990668 ])"
      ]
     },
     "execution_count": 130,
     "metadata": {},
     "output_type": "execute_result"
    }
   ],
   "source": [
    "diabetes_y_pred = regr.predict(diabetes_X_test)\n",
    "diabetes_y_pred"
   ]
  },
  {
   "cell_type": "code",
   "execution_count": 131,
   "id": "06154412",
   "metadata": {},
   "outputs": [
    {
     "name": "stdout",
     "output_type": "stream",
     "text": [
      "Coeficientes: \n",
      " [938.23786125]\n",
      "Media-Error: 2548.07\n",
      "Determinacion de coeficiente: 0.47\n"
     ]
    }
   ],
   "source": [
    "print('Coeficientes: \\n', regr.coef_)\n",
    "print('Media-Error: %.2f'\n",
    "      % mean_squared_error(diabetes_y_test, diabetes_y_pred))\n",
    "print('Determinacion de coeficiente: %.2f'\n",
    "      % r2_score(diabetes_y_test, diabetes_y_pred))"
   ]
  },
  {
   "cell_type": "code",
   "execution_count": 132,
   "id": "f4355864",
   "metadata": {},
   "outputs": [
    {
     "data": {
      "text/plain": [
       "LogisticRegression()"
      ]
     },
     "execution_count": 132,
     "metadata": {},
     "output_type": "execute_result"
    }
   ],
   "source": [
    "log_reg = LogisticRegression()\n",
    "log_reg.fit(diabetes_X_test, diabetes_y_test)"
   ]
  },
  {
   "cell_type": "code",
   "execution_count": 133,
   "id": "813117b4",
   "metadata": {},
   "outputs": [
    {
     "data": {
      "text/plain": [
       "array([[0.        ],\n",
       "       [0.003003  ],\n",
       "       [0.00600601],\n",
       "       [0.00900901],\n",
       "       [0.01201201],\n",
       "       [0.01501502],\n",
       "       [0.01801802],\n",
       "       [0.02102102],\n",
       "       [0.02402402],\n",
       "       [0.02702703],\n",
       "       [0.03003003],\n",
       "       [0.03303303],\n",
       "       [0.03603604],\n",
       "       [0.03903904],\n",
       "       [0.04204204],\n",
       "       [0.04504505],\n",
       "       [0.04804805],\n",
       "       [0.05105105],\n",
       "       [0.05405405],\n",
       "       [0.05705706],\n",
       "       [0.06006006],\n",
       "       [0.06306306],\n",
       "       [0.06606607],\n",
       "       [0.06906907],\n",
       "       [0.07207207],\n",
       "       [0.07507508],\n",
       "       [0.07807808],\n",
       "       [0.08108108],\n",
       "       [0.08408408],\n",
       "       [0.08708709],\n",
       "       [0.09009009],\n",
       "       [0.09309309],\n",
       "       [0.0960961 ],\n",
       "       [0.0990991 ],\n",
       "       [0.1021021 ],\n",
       "       [0.10510511],\n",
       "       [0.10810811],\n",
       "       [0.11111111],\n",
       "       [0.11411411],\n",
       "       [0.11711712],\n",
       "       [0.12012012],\n",
       "       [0.12312312],\n",
       "       [0.12612613],\n",
       "       [0.12912913],\n",
       "       [0.13213213],\n",
       "       [0.13513514],\n",
       "       [0.13813814],\n",
       "       [0.14114114],\n",
       "       [0.14414414],\n",
       "       [0.14714715],\n",
       "       [0.15015015],\n",
       "       [0.15315315],\n",
       "       [0.15615616],\n",
       "       [0.15915916],\n",
       "       [0.16216216],\n",
       "       [0.16516517],\n",
       "       [0.16816817],\n",
       "       [0.17117117],\n",
       "       [0.17417417],\n",
       "       [0.17717718],\n",
       "       [0.18018018],\n",
       "       [0.18318318],\n",
       "       [0.18618619],\n",
       "       [0.18918919],\n",
       "       [0.19219219],\n",
       "       [0.1951952 ],\n",
       "       [0.1981982 ],\n",
       "       [0.2012012 ],\n",
       "       [0.2042042 ],\n",
       "       [0.20720721],\n",
       "       [0.21021021],\n",
       "       [0.21321321],\n",
       "       [0.21621622],\n",
       "       [0.21921922],\n",
       "       [0.22222222],\n",
       "       [0.22522523],\n",
       "       [0.22822823],\n",
       "       [0.23123123],\n",
       "       [0.23423423],\n",
       "       [0.23723724],\n",
       "       [0.24024024],\n",
       "       [0.24324324],\n",
       "       [0.24624625],\n",
       "       [0.24924925],\n",
       "       [0.25225225],\n",
       "       [0.25525526],\n",
       "       [0.25825826],\n",
       "       [0.26126126],\n",
       "       [0.26426426],\n",
       "       [0.26726727],\n",
       "       [0.27027027],\n",
       "       [0.27327327],\n",
       "       [0.27627628],\n",
       "       [0.27927928],\n",
       "       [0.28228228],\n",
       "       [0.28528529],\n",
       "       [0.28828829],\n",
       "       [0.29129129],\n",
       "       [0.29429429],\n",
       "       [0.2972973 ],\n",
       "       [0.3003003 ],\n",
       "       [0.3033033 ],\n",
       "       [0.30630631],\n",
       "       [0.30930931],\n",
       "       [0.31231231],\n",
       "       [0.31531532],\n",
       "       [0.31831832],\n",
       "       [0.32132132],\n",
       "       [0.32432432],\n",
       "       [0.32732733],\n",
       "       [0.33033033],\n",
       "       [0.33333333],\n",
       "       [0.33633634],\n",
       "       [0.33933934],\n",
       "       [0.34234234],\n",
       "       [0.34534535],\n",
       "       [0.34834835],\n",
       "       [0.35135135],\n",
       "       [0.35435435],\n",
       "       [0.35735736],\n",
       "       [0.36036036],\n",
       "       [0.36336336],\n",
       "       [0.36636637],\n",
       "       [0.36936937],\n",
       "       [0.37237237],\n",
       "       [0.37537538],\n",
       "       [0.37837838],\n",
       "       [0.38138138],\n",
       "       [0.38438438],\n",
       "       [0.38738739],\n",
       "       [0.39039039],\n",
       "       [0.39339339],\n",
       "       [0.3963964 ],\n",
       "       [0.3993994 ],\n",
       "       [0.4024024 ],\n",
       "       [0.40540541],\n",
       "       [0.40840841],\n",
       "       [0.41141141],\n",
       "       [0.41441441],\n",
       "       [0.41741742],\n",
       "       [0.42042042],\n",
       "       [0.42342342],\n",
       "       [0.42642643],\n",
       "       [0.42942943],\n",
       "       [0.43243243],\n",
       "       [0.43543544],\n",
       "       [0.43843844],\n",
       "       [0.44144144],\n",
       "       [0.44444444],\n",
       "       [0.44744745],\n",
       "       [0.45045045],\n",
       "       [0.45345345],\n",
       "       [0.45645646],\n",
       "       [0.45945946],\n",
       "       [0.46246246],\n",
       "       [0.46546547],\n",
       "       [0.46846847],\n",
       "       [0.47147147],\n",
       "       [0.47447447],\n",
       "       [0.47747748],\n",
       "       [0.48048048],\n",
       "       [0.48348348],\n",
       "       [0.48648649],\n",
       "       [0.48948949],\n",
       "       [0.49249249],\n",
       "       [0.4954955 ],\n",
       "       [0.4984985 ],\n",
       "       [0.5015015 ],\n",
       "       [0.5045045 ],\n",
       "       [0.50750751],\n",
       "       [0.51051051],\n",
       "       [0.51351351],\n",
       "       [0.51651652],\n",
       "       [0.51951952],\n",
       "       [0.52252252],\n",
       "       [0.52552553],\n",
       "       [0.52852853],\n",
       "       [0.53153153],\n",
       "       [0.53453453],\n",
       "       [0.53753754],\n",
       "       [0.54054054],\n",
       "       [0.54354354],\n",
       "       [0.54654655],\n",
       "       [0.54954955],\n",
       "       [0.55255255],\n",
       "       [0.55555556],\n",
       "       [0.55855856],\n",
       "       [0.56156156],\n",
       "       [0.56456456],\n",
       "       [0.56756757],\n",
       "       [0.57057057],\n",
       "       [0.57357357],\n",
       "       [0.57657658],\n",
       "       [0.57957958],\n",
       "       [0.58258258],\n",
       "       [0.58558559],\n",
       "       [0.58858859],\n",
       "       [0.59159159],\n",
       "       [0.59459459],\n",
       "       [0.5975976 ],\n",
       "       [0.6006006 ],\n",
       "       [0.6036036 ],\n",
       "       [0.60660661],\n",
       "       [0.60960961],\n",
       "       [0.61261261],\n",
       "       [0.61561562],\n",
       "       [0.61861862],\n",
       "       [0.62162162],\n",
       "       [0.62462462],\n",
       "       [0.62762763],\n",
       "       [0.63063063],\n",
       "       [0.63363363],\n",
       "       [0.63663664],\n",
       "       [0.63963964],\n",
       "       [0.64264264],\n",
       "       [0.64564565],\n",
       "       [0.64864865],\n",
       "       [0.65165165],\n",
       "       [0.65465465],\n",
       "       [0.65765766],\n",
       "       [0.66066066],\n",
       "       [0.66366366],\n",
       "       [0.66666667],\n",
       "       [0.66966967],\n",
       "       [0.67267267],\n",
       "       [0.67567568],\n",
       "       [0.67867868],\n",
       "       [0.68168168],\n",
       "       [0.68468468],\n",
       "       [0.68768769],\n",
       "       [0.69069069],\n",
       "       [0.69369369],\n",
       "       [0.6966967 ],\n",
       "       [0.6996997 ],\n",
       "       [0.7027027 ],\n",
       "       [0.70570571],\n",
       "       [0.70870871],\n",
       "       [0.71171171],\n",
       "       [0.71471471],\n",
       "       [0.71771772],\n",
       "       [0.72072072],\n",
       "       [0.72372372],\n",
       "       [0.72672673],\n",
       "       [0.72972973],\n",
       "       [0.73273273],\n",
       "       [0.73573574],\n",
       "       [0.73873874],\n",
       "       [0.74174174],\n",
       "       [0.74474474],\n",
       "       [0.74774775],\n",
       "       [0.75075075],\n",
       "       [0.75375375],\n",
       "       [0.75675676],\n",
       "       [0.75975976],\n",
       "       [0.76276276],\n",
       "       [0.76576577],\n",
       "       [0.76876877],\n",
       "       [0.77177177],\n",
       "       [0.77477477],\n",
       "       [0.77777778],\n",
       "       [0.78078078],\n",
       "       [0.78378378],\n",
       "       [0.78678679],\n",
       "       [0.78978979],\n",
       "       [0.79279279],\n",
       "       [0.7957958 ],\n",
       "       [0.7987988 ],\n",
       "       [0.8018018 ],\n",
       "       [0.8048048 ],\n",
       "       [0.80780781],\n",
       "       [0.81081081],\n",
       "       [0.81381381],\n",
       "       [0.81681682],\n",
       "       [0.81981982],\n",
       "       [0.82282282],\n",
       "       [0.82582583],\n",
       "       [0.82882883],\n",
       "       [0.83183183],\n",
       "       [0.83483483],\n",
       "       [0.83783784],\n",
       "       [0.84084084],\n",
       "       [0.84384384],\n",
       "       [0.84684685],\n",
       "       [0.84984985],\n",
       "       [0.85285285],\n",
       "       [0.85585586],\n",
       "       [0.85885886],\n",
       "       [0.86186186],\n",
       "       [0.86486486],\n",
       "       [0.86786787],\n",
       "       [0.87087087],\n",
       "       [0.87387387],\n",
       "       [0.87687688],\n",
       "       [0.87987988],\n",
       "       [0.88288288],\n",
       "       [0.88588589],\n",
       "       [0.88888889],\n",
       "       [0.89189189],\n",
       "       [0.89489489],\n",
       "       [0.8978979 ],\n",
       "       [0.9009009 ],\n",
       "       [0.9039039 ],\n",
       "       [0.90690691],\n",
       "       [0.90990991],\n",
       "       [0.91291291],\n",
       "       [0.91591592],\n",
       "       [0.91891892],\n",
       "       [0.92192192],\n",
       "       [0.92492492],\n",
       "       [0.92792793],\n",
       "       [0.93093093],\n",
       "       [0.93393393],\n",
       "       [0.93693694],\n",
       "       [0.93993994],\n",
       "       [0.94294294],\n",
       "       [0.94594595],\n",
       "       [0.94894895],\n",
       "       [0.95195195],\n",
       "       [0.95495495],\n",
       "       [0.95795796],\n",
       "       [0.96096096],\n",
       "       [0.96396396],\n",
       "       [0.96696697],\n",
       "       [0.96996997],\n",
       "       [0.97297297],\n",
       "       [0.97597598],\n",
       "       [0.97897898],\n",
       "       [0.98198198],\n",
       "       [0.98498498],\n",
       "       [0.98798799],\n",
       "       [0.99099099],\n",
       "       [0.99399399],\n",
       "       [0.996997  ],\n",
       "       [1.        ],\n",
       "       [1.003003  ],\n",
       "       [1.00600601],\n",
       "       [1.00900901],\n",
       "       [1.01201201],\n",
       "       [1.01501502],\n",
       "       [1.01801802],\n",
       "       [1.02102102],\n",
       "       [1.02402402],\n",
       "       [1.02702703],\n",
       "       [1.03003003],\n",
       "       [1.03303303],\n",
       "       [1.03603604],\n",
       "       [1.03903904],\n",
       "       [1.04204204],\n",
       "       [1.04504505],\n",
       "       [1.04804805],\n",
       "       [1.05105105],\n",
       "       [1.05405405],\n",
       "       [1.05705706],\n",
       "       [1.06006006],\n",
       "       [1.06306306],\n",
       "       [1.06606607],\n",
       "       [1.06906907],\n",
       "       [1.07207207],\n",
       "       [1.07507508],\n",
       "       [1.07807808],\n",
       "       [1.08108108],\n",
       "       [1.08408408],\n",
       "       [1.08708709],\n",
       "       [1.09009009],\n",
       "       [1.09309309],\n",
       "       [1.0960961 ],\n",
       "       [1.0990991 ],\n",
       "       [1.1021021 ],\n",
       "       [1.10510511],\n",
       "       [1.10810811],\n",
       "       [1.11111111],\n",
       "       [1.11411411],\n",
       "       [1.11711712],\n",
       "       [1.12012012],\n",
       "       [1.12312312],\n",
       "       [1.12612613],\n",
       "       [1.12912913],\n",
       "       [1.13213213],\n",
       "       [1.13513514],\n",
       "       [1.13813814],\n",
       "       [1.14114114],\n",
       "       [1.14414414],\n",
       "       [1.14714715],\n",
       "       [1.15015015],\n",
       "       [1.15315315],\n",
       "       [1.15615616],\n",
       "       [1.15915916],\n",
       "       [1.16216216],\n",
       "       [1.16516517],\n",
       "       [1.16816817],\n",
       "       [1.17117117],\n",
       "       [1.17417417],\n",
       "       [1.17717718],\n",
       "       [1.18018018],\n",
       "       [1.18318318],\n",
       "       [1.18618619],\n",
       "       [1.18918919],\n",
       "       [1.19219219],\n",
       "       [1.1951952 ],\n",
       "       [1.1981982 ],\n",
       "       [1.2012012 ],\n",
       "       [1.2042042 ],\n",
       "       [1.20720721],\n",
       "       [1.21021021],\n",
       "       [1.21321321],\n",
       "       [1.21621622],\n",
       "       [1.21921922],\n",
       "       [1.22222222],\n",
       "       [1.22522523],\n",
       "       [1.22822823],\n",
       "       [1.23123123],\n",
       "       [1.23423423],\n",
       "       [1.23723724],\n",
       "       [1.24024024],\n",
       "       [1.24324324],\n",
       "       [1.24624625],\n",
       "       [1.24924925],\n",
       "       [1.25225225],\n",
       "       [1.25525526],\n",
       "       [1.25825826],\n",
       "       [1.26126126],\n",
       "       [1.26426426],\n",
       "       [1.26726727],\n",
       "       [1.27027027],\n",
       "       [1.27327327],\n",
       "       [1.27627628],\n",
       "       [1.27927928],\n",
       "       [1.28228228],\n",
       "       [1.28528529],\n",
       "       [1.28828829],\n",
       "       [1.29129129],\n",
       "       [1.29429429],\n",
       "       [1.2972973 ],\n",
       "       [1.3003003 ],\n",
       "       [1.3033033 ],\n",
       "       [1.30630631],\n",
       "       [1.30930931],\n",
       "       [1.31231231],\n",
       "       [1.31531532],\n",
       "       [1.31831832],\n",
       "       [1.32132132],\n",
       "       [1.32432432],\n",
       "       [1.32732733],\n",
       "       [1.33033033],\n",
       "       [1.33333333],\n",
       "       [1.33633634],\n",
       "       [1.33933934],\n",
       "       [1.34234234],\n",
       "       [1.34534535],\n",
       "       [1.34834835],\n",
       "       [1.35135135],\n",
       "       [1.35435435],\n",
       "       [1.35735736],\n",
       "       [1.36036036],\n",
       "       [1.36336336],\n",
       "       [1.36636637],\n",
       "       [1.36936937],\n",
       "       [1.37237237],\n",
       "       [1.37537538],\n",
       "       [1.37837838],\n",
       "       [1.38138138],\n",
       "       [1.38438438],\n",
       "       [1.38738739],\n",
       "       [1.39039039],\n",
       "       [1.39339339],\n",
       "       [1.3963964 ],\n",
       "       [1.3993994 ],\n",
       "       [1.4024024 ],\n",
       "       [1.40540541],\n",
       "       [1.40840841],\n",
       "       [1.41141141],\n",
       "       [1.41441441],\n",
       "       [1.41741742],\n",
       "       [1.42042042],\n",
       "       [1.42342342],\n",
       "       [1.42642643],\n",
       "       [1.42942943],\n",
       "       [1.43243243],\n",
       "       [1.43543544],\n",
       "       [1.43843844],\n",
       "       [1.44144144],\n",
       "       [1.44444444],\n",
       "       [1.44744745],\n",
       "       [1.45045045],\n",
       "       [1.45345345],\n",
       "       [1.45645646],\n",
       "       [1.45945946],\n",
       "       [1.46246246],\n",
       "       [1.46546547],\n",
       "       [1.46846847],\n",
       "       [1.47147147],\n",
       "       [1.47447447],\n",
       "       [1.47747748],\n",
       "       [1.48048048],\n",
       "       [1.48348348],\n",
       "       [1.48648649],\n",
       "       [1.48948949],\n",
       "       [1.49249249],\n",
       "       [1.4954955 ],\n",
       "       [1.4984985 ],\n",
       "       [1.5015015 ],\n",
       "       [1.5045045 ],\n",
       "       [1.50750751],\n",
       "       [1.51051051],\n",
       "       [1.51351351],\n",
       "       [1.51651652],\n",
       "       [1.51951952],\n",
       "       [1.52252252],\n",
       "       [1.52552553],\n",
       "       [1.52852853],\n",
       "       [1.53153153],\n",
       "       [1.53453453],\n",
       "       [1.53753754],\n",
       "       [1.54054054],\n",
       "       [1.54354354],\n",
       "       [1.54654655],\n",
       "       [1.54954955],\n",
       "       [1.55255255],\n",
       "       [1.55555556],\n",
       "       [1.55855856],\n",
       "       [1.56156156],\n",
       "       [1.56456456],\n",
       "       [1.56756757],\n",
       "       [1.57057057],\n",
       "       [1.57357357],\n",
       "       [1.57657658],\n",
       "       [1.57957958],\n",
       "       [1.58258258],\n",
       "       [1.58558559],\n",
       "       [1.58858859],\n",
       "       [1.59159159],\n",
       "       [1.59459459],\n",
       "       [1.5975976 ],\n",
       "       [1.6006006 ],\n",
       "       [1.6036036 ],\n",
       "       [1.60660661],\n",
       "       [1.60960961],\n",
       "       [1.61261261],\n",
       "       [1.61561562],\n",
       "       [1.61861862],\n",
       "       [1.62162162],\n",
       "       [1.62462462],\n",
       "       [1.62762763],\n",
       "       [1.63063063],\n",
       "       [1.63363363],\n",
       "       [1.63663664],\n",
       "       [1.63963964],\n",
       "       [1.64264264],\n",
       "       [1.64564565],\n",
       "       [1.64864865],\n",
       "       [1.65165165],\n",
       "       [1.65465465],\n",
       "       [1.65765766],\n",
       "       [1.66066066],\n",
       "       [1.66366366],\n",
       "       [1.66666667],\n",
       "       [1.66966967],\n",
       "       [1.67267267],\n",
       "       [1.67567568],\n",
       "       [1.67867868],\n",
       "       [1.68168168],\n",
       "       [1.68468468],\n",
       "       [1.68768769],\n",
       "       [1.69069069],\n",
       "       [1.69369369],\n",
       "       [1.6966967 ],\n",
       "       [1.6996997 ],\n",
       "       [1.7027027 ],\n",
       "       [1.70570571],\n",
       "       [1.70870871],\n",
       "       [1.71171171],\n",
       "       [1.71471471],\n",
       "       [1.71771772],\n",
       "       [1.72072072],\n",
       "       [1.72372372],\n",
       "       [1.72672673],\n",
       "       [1.72972973],\n",
       "       [1.73273273],\n",
       "       [1.73573574],\n",
       "       [1.73873874],\n",
       "       [1.74174174],\n",
       "       [1.74474474],\n",
       "       [1.74774775],\n",
       "       [1.75075075],\n",
       "       [1.75375375],\n",
       "       [1.75675676],\n",
       "       [1.75975976],\n",
       "       [1.76276276],\n",
       "       [1.76576577],\n",
       "       [1.76876877],\n",
       "       [1.77177177],\n",
       "       [1.77477477],\n",
       "       [1.77777778],\n",
       "       [1.78078078],\n",
       "       [1.78378378],\n",
       "       [1.78678679],\n",
       "       [1.78978979],\n",
       "       [1.79279279],\n",
       "       [1.7957958 ],\n",
       "       [1.7987988 ],\n",
       "       [1.8018018 ],\n",
       "       [1.8048048 ],\n",
       "       [1.80780781],\n",
       "       [1.81081081],\n",
       "       [1.81381381],\n",
       "       [1.81681682],\n",
       "       [1.81981982],\n",
       "       [1.82282282],\n",
       "       [1.82582583],\n",
       "       [1.82882883],\n",
       "       [1.83183183],\n",
       "       [1.83483483],\n",
       "       [1.83783784],\n",
       "       [1.84084084],\n",
       "       [1.84384384],\n",
       "       [1.84684685],\n",
       "       [1.84984985],\n",
       "       [1.85285285],\n",
       "       [1.85585586],\n",
       "       [1.85885886],\n",
       "       [1.86186186],\n",
       "       [1.86486486],\n",
       "       [1.86786787],\n",
       "       [1.87087087],\n",
       "       [1.87387387],\n",
       "       [1.87687688],\n",
       "       [1.87987988],\n",
       "       [1.88288288],\n",
       "       [1.88588589],\n",
       "       [1.88888889],\n",
       "       [1.89189189],\n",
       "       [1.89489489],\n",
       "       [1.8978979 ],\n",
       "       [1.9009009 ],\n",
       "       [1.9039039 ],\n",
       "       [1.90690691],\n",
       "       [1.90990991],\n",
       "       [1.91291291],\n",
       "       [1.91591592],\n",
       "       [1.91891892],\n",
       "       [1.92192192],\n",
       "       [1.92492492],\n",
       "       [1.92792793],\n",
       "       [1.93093093],\n",
       "       [1.93393393],\n",
       "       [1.93693694],\n",
       "       [1.93993994],\n",
       "       [1.94294294],\n",
       "       [1.94594595],\n",
       "       [1.94894895],\n",
       "       [1.95195195],\n",
       "       [1.95495495],\n",
       "       [1.95795796],\n",
       "       [1.96096096],\n",
       "       [1.96396396],\n",
       "       [1.96696697],\n",
       "       [1.96996997],\n",
       "       [1.97297297],\n",
       "       [1.97597598],\n",
       "       [1.97897898],\n",
       "       [1.98198198],\n",
       "       [1.98498498],\n",
       "       [1.98798799],\n",
       "       [1.99099099],\n",
       "       [1.99399399],\n",
       "       [1.996997  ],\n",
       "       [2.        ],\n",
       "       [2.003003  ],\n",
       "       [2.00600601],\n",
       "       [2.00900901],\n",
       "       [2.01201201],\n",
       "       [2.01501502],\n",
       "       [2.01801802],\n",
       "       [2.02102102],\n",
       "       [2.02402402],\n",
       "       [2.02702703],\n",
       "       [2.03003003],\n",
       "       [2.03303303],\n",
       "       [2.03603604],\n",
       "       [2.03903904],\n",
       "       [2.04204204],\n",
       "       [2.04504505],\n",
       "       [2.04804805],\n",
       "       [2.05105105],\n",
       "       [2.05405405],\n",
       "       [2.05705706],\n",
       "       [2.06006006],\n",
       "       [2.06306306],\n",
       "       [2.06606607],\n",
       "       [2.06906907],\n",
       "       [2.07207207],\n",
       "       [2.07507508],\n",
       "       [2.07807808],\n",
       "       [2.08108108],\n",
       "       [2.08408408],\n",
       "       [2.08708709],\n",
       "       [2.09009009],\n",
       "       [2.09309309],\n",
       "       [2.0960961 ],\n",
       "       [2.0990991 ],\n",
       "       [2.1021021 ],\n",
       "       [2.10510511],\n",
       "       [2.10810811],\n",
       "       [2.11111111],\n",
       "       [2.11411411],\n",
       "       [2.11711712],\n",
       "       [2.12012012],\n",
       "       [2.12312312],\n",
       "       [2.12612613],\n",
       "       [2.12912913],\n",
       "       [2.13213213],\n",
       "       [2.13513514],\n",
       "       [2.13813814],\n",
       "       [2.14114114],\n",
       "       [2.14414414],\n",
       "       [2.14714715],\n",
       "       [2.15015015],\n",
       "       [2.15315315],\n",
       "       [2.15615616],\n",
       "       [2.15915916],\n",
       "       [2.16216216],\n",
       "       [2.16516517],\n",
       "       [2.16816817],\n",
       "       [2.17117117],\n",
       "       [2.17417417],\n",
       "       [2.17717718],\n",
       "       [2.18018018],\n",
       "       [2.18318318],\n",
       "       [2.18618619],\n",
       "       [2.18918919],\n",
       "       [2.19219219],\n",
       "       [2.1951952 ],\n",
       "       [2.1981982 ],\n",
       "       [2.2012012 ],\n",
       "       [2.2042042 ],\n",
       "       [2.20720721],\n",
       "       [2.21021021],\n",
       "       [2.21321321],\n",
       "       [2.21621622],\n",
       "       [2.21921922],\n",
       "       [2.22222222],\n",
       "       [2.22522523],\n",
       "       [2.22822823],\n",
       "       [2.23123123],\n",
       "       [2.23423423],\n",
       "       [2.23723724],\n",
       "       [2.24024024],\n",
       "       [2.24324324],\n",
       "       [2.24624625],\n",
       "       [2.24924925],\n",
       "       [2.25225225],\n",
       "       [2.25525526],\n",
       "       [2.25825826],\n",
       "       [2.26126126],\n",
       "       [2.26426426],\n",
       "       [2.26726727],\n",
       "       [2.27027027],\n",
       "       [2.27327327],\n",
       "       [2.27627628],\n",
       "       [2.27927928],\n",
       "       [2.28228228],\n",
       "       [2.28528529],\n",
       "       [2.28828829],\n",
       "       [2.29129129],\n",
       "       [2.29429429],\n",
       "       [2.2972973 ],\n",
       "       [2.3003003 ],\n",
       "       [2.3033033 ],\n",
       "       [2.30630631],\n",
       "       [2.30930931],\n",
       "       [2.31231231],\n",
       "       [2.31531532],\n",
       "       [2.31831832],\n",
       "       [2.32132132],\n",
       "       [2.32432432],\n",
       "       [2.32732733],\n",
       "       [2.33033033],\n",
       "       [2.33333333],\n",
       "       [2.33633634],\n",
       "       [2.33933934],\n",
       "       [2.34234234],\n",
       "       [2.34534535],\n",
       "       [2.34834835],\n",
       "       [2.35135135],\n",
       "       [2.35435435],\n",
       "       [2.35735736],\n",
       "       [2.36036036],\n",
       "       [2.36336336],\n",
       "       [2.36636637],\n",
       "       [2.36936937],\n",
       "       [2.37237237],\n",
       "       [2.37537538],\n",
       "       [2.37837838],\n",
       "       [2.38138138],\n",
       "       [2.38438438],\n",
       "       [2.38738739],\n",
       "       [2.39039039],\n",
       "       [2.39339339],\n",
       "       [2.3963964 ],\n",
       "       [2.3993994 ],\n",
       "       [2.4024024 ],\n",
       "       [2.40540541],\n",
       "       [2.40840841],\n",
       "       [2.41141141],\n",
       "       [2.41441441],\n",
       "       [2.41741742],\n",
       "       [2.42042042],\n",
       "       [2.42342342],\n",
       "       [2.42642643],\n",
       "       [2.42942943],\n",
       "       [2.43243243],\n",
       "       [2.43543544],\n",
       "       [2.43843844],\n",
       "       [2.44144144],\n",
       "       [2.44444444],\n",
       "       [2.44744745],\n",
       "       [2.45045045],\n",
       "       [2.45345345],\n",
       "       [2.45645646],\n",
       "       [2.45945946],\n",
       "       [2.46246246],\n",
       "       [2.46546547],\n",
       "       [2.46846847],\n",
       "       [2.47147147],\n",
       "       [2.47447447],\n",
       "       [2.47747748],\n",
       "       [2.48048048],\n",
       "       [2.48348348],\n",
       "       [2.48648649],\n",
       "       [2.48948949],\n",
       "       [2.49249249],\n",
       "       [2.4954955 ],\n",
       "       [2.4984985 ],\n",
       "       [2.5015015 ],\n",
       "       [2.5045045 ],\n",
       "       [2.50750751],\n",
       "       [2.51051051],\n",
       "       [2.51351351],\n",
       "       [2.51651652],\n",
       "       [2.51951952],\n",
       "       [2.52252252],\n",
       "       [2.52552553],\n",
       "       [2.52852853],\n",
       "       [2.53153153],\n",
       "       [2.53453453],\n",
       "       [2.53753754],\n",
       "       [2.54054054],\n",
       "       [2.54354354],\n",
       "       [2.54654655],\n",
       "       [2.54954955],\n",
       "       [2.55255255],\n",
       "       [2.55555556],\n",
       "       [2.55855856],\n",
       "       [2.56156156],\n",
       "       [2.56456456],\n",
       "       [2.56756757],\n",
       "       [2.57057057],\n",
       "       [2.57357357],\n",
       "       [2.57657658],\n",
       "       [2.57957958],\n",
       "       [2.58258258],\n",
       "       [2.58558559],\n",
       "       [2.58858859],\n",
       "       [2.59159159],\n",
       "       [2.59459459],\n",
       "       [2.5975976 ],\n",
       "       [2.6006006 ],\n",
       "       [2.6036036 ],\n",
       "       [2.60660661],\n",
       "       [2.60960961],\n",
       "       [2.61261261],\n",
       "       [2.61561562],\n",
       "       [2.61861862],\n",
       "       [2.62162162],\n",
       "       [2.62462462],\n",
       "       [2.62762763],\n",
       "       [2.63063063],\n",
       "       [2.63363363],\n",
       "       [2.63663664],\n",
       "       [2.63963964],\n",
       "       [2.64264264],\n",
       "       [2.64564565],\n",
       "       [2.64864865],\n",
       "       [2.65165165],\n",
       "       [2.65465465],\n",
       "       [2.65765766],\n",
       "       [2.66066066],\n",
       "       [2.66366366],\n",
       "       [2.66666667],\n",
       "       [2.66966967],\n",
       "       [2.67267267],\n",
       "       [2.67567568],\n",
       "       [2.67867868],\n",
       "       [2.68168168],\n",
       "       [2.68468468],\n",
       "       [2.68768769],\n",
       "       [2.69069069],\n",
       "       [2.69369369],\n",
       "       [2.6966967 ],\n",
       "       [2.6996997 ],\n",
       "       [2.7027027 ],\n",
       "       [2.70570571],\n",
       "       [2.70870871],\n",
       "       [2.71171171],\n",
       "       [2.71471471],\n",
       "       [2.71771772],\n",
       "       [2.72072072],\n",
       "       [2.72372372],\n",
       "       [2.72672673],\n",
       "       [2.72972973],\n",
       "       [2.73273273],\n",
       "       [2.73573574],\n",
       "       [2.73873874],\n",
       "       [2.74174174],\n",
       "       [2.74474474],\n",
       "       [2.74774775],\n",
       "       [2.75075075],\n",
       "       [2.75375375],\n",
       "       [2.75675676],\n",
       "       [2.75975976],\n",
       "       [2.76276276],\n",
       "       [2.76576577],\n",
       "       [2.76876877],\n",
       "       [2.77177177],\n",
       "       [2.77477477],\n",
       "       [2.77777778],\n",
       "       [2.78078078],\n",
       "       [2.78378378],\n",
       "       [2.78678679],\n",
       "       [2.78978979],\n",
       "       [2.79279279],\n",
       "       [2.7957958 ],\n",
       "       [2.7987988 ],\n",
       "       [2.8018018 ],\n",
       "       [2.8048048 ],\n",
       "       [2.80780781],\n",
       "       [2.81081081],\n",
       "       [2.81381381],\n",
       "       [2.81681682],\n",
       "       [2.81981982],\n",
       "       [2.82282282],\n",
       "       [2.82582583],\n",
       "       [2.82882883],\n",
       "       [2.83183183],\n",
       "       [2.83483483],\n",
       "       [2.83783784],\n",
       "       [2.84084084],\n",
       "       [2.84384384],\n",
       "       [2.84684685],\n",
       "       [2.84984985],\n",
       "       [2.85285285],\n",
       "       [2.85585586],\n",
       "       [2.85885886],\n",
       "       [2.86186186],\n",
       "       [2.86486486],\n",
       "       [2.86786787],\n",
       "       [2.87087087],\n",
       "       [2.87387387],\n",
       "       [2.87687688],\n",
       "       [2.87987988],\n",
       "       [2.88288288],\n",
       "       [2.88588589],\n",
       "       [2.88888889],\n",
       "       [2.89189189],\n",
       "       [2.89489489],\n",
       "       [2.8978979 ],\n",
       "       [2.9009009 ],\n",
       "       [2.9039039 ],\n",
       "       [2.90690691],\n",
       "       [2.90990991],\n",
       "       [2.91291291],\n",
       "       [2.91591592],\n",
       "       [2.91891892],\n",
       "       [2.92192192],\n",
       "       [2.92492492],\n",
       "       [2.92792793],\n",
       "       [2.93093093],\n",
       "       [2.93393393],\n",
       "       [2.93693694],\n",
       "       [2.93993994],\n",
       "       [2.94294294],\n",
       "       [2.94594595],\n",
       "       [2.94894895],\n",
       "       [2.95195195],\n",
       "       [2.95495495],\n",
       "       [2.95795796],\n",
       "       [2.96096096],\n",
       "       [2.96396396],\n",
       "       [2.96696697],\n",
       "       [2.96996997],\n",
       "       [2.97297297],\n",
       "       [2.97597598],\n",
       "       [2.97897898],\n",
       "       [2.98198198],\n",
       "       [2.98498498],\n",
       "       [2.98798799],\n",
       "       [2.99099099],\n",
       "       [2.99399399],\n",
       "       [2.996997  ],\n",
       "       [3.        ]])"
      ]
     },
     "execution_count": 133,
     "metadata": {},
     "output_type": "execute_result"
    }
   ],
   "source": [
    "x_new = np.linspace(0, 3, 1000).reshape(-1, 1)\n",
    "x_new"
   ]
  },
  {
   "cell_type": "code",
   "execution_count": 134,
   "id": "374648f2",
   "metadata": {},
   "outputs": [],
   "source": [
    "y_prob = log_reg.predict_proba(x_new)"
   ]
  },
  {
   "cell_type": "code",
   "execution_count": 135,
   "id": "61e69487",
   "metadata": {},
   "outputs": [
    {
     "data": {
      "text/plain": [
       "[<matplotlib.lines.Line2D at 0x7fc5240c4940>]"
      ]
     },
     "execution_count": 135,
     "metadata": {},
     "output_type": "execute_result"
    },
    {
     "data": {
      "image/png": "[encoded data removed]",
      "text/plain": [
       "<Figure size 432x288 with 1 Axes>"
      ]
     },
     "metadata": {
      "needs_background": "light"
     },
     "output_type": "display_data"
    }
   ],
   "source": [
    "plt.plot(x_new, y_prob[:, 1], \"g-\", label=\"A\")\n",
    "plt.plot(x_new, y_prob[:, 0], \"b--\", label=\"B\")"
   ]
  },
  {
   "cell_type": "code",
   "execution_count": 143,
   "id": "53eee973",
   "metadata": {},
   "outputs": [
    {
     "data": {
      "text/plain": [
       "<bound method LinearClassifierMixin.predict of LogisticRegression()>"
      ]
     },
     "execution_count": 143,
     "metadata": {},
     "output_type": "execute_result"
    }
   ],
   "source": [
    "log_reg.predict([[1.7], [1.5], [1.6]])\n",
    "log_reg.predict"
   ]
  },
  {
   "cell_type": "code",
   "execution_count": 146,
   "id": "e4090951",
   "metadata": {},
   "outputs": [],
   "source": [
    "softmax = (test_diabetes,train_diabetes)"
   ]
  },
  {
   "cell_type": "code",
   "execution_count": 147,
   "id": "75332a20",
   "metadata": {},
   "outputs": [
    {
     "data": {
      "text/plain": [
       "(array([[ 0.06169621],\n",
       "        [-0.05147406],\n",
       "        [ 0.04445121],\n",
       "        [-0.01159501],\n",
       "        [-0.03638469],\n",
       "        [-0.04069594],\n",
       "        [-0.04716281],\n",
       "        [-0.00189471],\n",
       "        [ 0.06169621],\n",
       "        [ 0.03906215],\n",
       "        [-0.08380842],\n",
       "        [ 0.01750591],\n",
       "        [-0.02884001],\n",
       "        [-0.00189471],\n",
       "        [-0.02560657],\n",
       "        [-0.01806189],\n",
       "        [ 0.04229559],\n",
       "        [ 0.01211685],\n",
       "        [-0.0105172 ],\n",
       "        [-0.01806189],\n",
       "        [-0.05686312],\n",
       "        [-0.02237314],\n",
       "        [-0.00405033],\n",
       "        [ 0.06061839],\n",
       "        [ 0.03582872],\n",
       "        [-0.01267283],\n",
       "        [-0.07734155],\n",
       "        [ 0.05954058],\n",
       "        [-0.02129532],\n",
       "        [-0.00620595],\n",
       "        [ 0.04445121],\n",
       "        [-0.06548562],\n",
       "        [ 0.12528712],\n",
       "        [-0.05039625],\n",
       "        [-0.06332999],\n",
       "        [-0.03099563],\n",
       "        [ 0.02289497],\n",
       "        [ 0.01103904],\n",
       "        [ 0.07139652],\n",
       "        [ 0.01427248],\n",
       "        [-0.00836158],\n",
       "        [-0.06764124],\n",
       "        [-0.0105172 ],\n",
       "        [-0.02345095],\n",
       "        [ 0.06816308],\n",
       "        [-0.03530688],\n",
       "        [-0.01159501],\n",
       "        [-0.0730303 ],\n",
       "        [-0.04177375],\n",
       "        [ 0.01427248],\n",
       "        [-0.00728377],\n",
       "        [ 0.0164281 ],\n",
       "        [-0.00943939],\n",
       "        [-0.01590626],\n",
       "        [ 0.0250506 ],\n",
       "        [-0.04931844],\n",
       "        [ 0.04121778],\n",
       "        [-0.06332999],\n",
       "        [-0.06440781],\n",
       "        [-0.02560657],\n",
       "        [-0.00405033],\n",
       "        [ 0.00457217],\n",
       "        [-0.00728377],\n",
       "        [-0.0374625 ],\n",
       "        [-0.02560657],\n",
       "        [-0.02452876],\n",
       "        [-0.01806189],\n",
       "        [-0.01482845],\n",
       "        [-0.02991782],\n",
       "        [-0.046085  ],\n",
       "        [-0.06979687],\n",
       "        [ 0.03367309],\n",
       "        [-0.00405033],\n",
       "        [-0.02021751],\n",
       "        [ 0.00241654],\n",
       "        [-0.03099563],\n",
       "        [ 0.02828403],\n",
       "        [-0.03638469],\n",
       "        [-0.05794093],\n",
       "        [-0.0374625 ],\n",
       "        [ 0.01211685],\n",
       "        [-0.02237314],\n",
       "        [-0.03530688],\n",
       "        [ 0.00996123],\n",
       "        [-0.03961813],\n",
       "        [ 0.07139652],\n",
       "        [-0.07518593],\n",
       "        [-0.00620595],\n",
       "        [-0.04069594],\n",
       "        [-0.04824063],\n",
       "        [-0.02560657],\n",
       "        [ 0.0519959 ],\n",
       "        [ 0.00457217],\n",
       "        [-0.06440781],\n",
       "        [-0.01698407],\n",
       "        [-0.05794093],\n",
       "        [ 0.00996123],\n",
       "        [ 0.08864151],\n",
       "        [-0.00512814],\n",
       "        [-0.06440781],\n",
       "        [ 0.01750591],\n",
       "        [-0.04500719],\n",
       "        [ 0.02828403],\n",
       "        [ 0.04121778],\n",
       "        [ 0.06492964],\n",
       "        [-0.03207344],\n",
       "        [-0.07626374],\n",
       "        [ 0.04984027],\n",
       "        [ 0.04552903],\n",
       "        [-0.00943939],\n",
       "        [-0.03207344],\n",
       "        [ 0.00457217],\n",
       "        [ 0.02073935],\n",
       "        [ 0.01427248],\n",
       "        [ 0.11019775],\n",
       "        [ 0.00133873],\n",
       "        [ 0.05846277],\n",
       "        [-0.02129532],\n",
       "        [-0.0105172 ],\n",
       "        [-0.04716281],\n",
       "        [ 0.00457217],\n",
       "        [ 0.01750591],\n",
       "        [ 0.08109682],\n",
       "        [ 0.0347509 ],\n",
       "        [ 0.02397278],\n",
       "        [-0.00836158],\n",
       "        [-0.06117437],\n",
       "        [-0.00189471],\n",
       "        [-0.06225218],\n",
       "        [ 0.0164281 ],\n",
       "        [ 0.09618619],\n",
       "        [-0.06979687],\n",
       "        [-0.02129532],\n",
       "        [-0.05362969],\n",
       "        [ 0.0433734 ],\n",
       "        [ 0.05630715],\n",
       "        [-0.0816528 ],\n",
       "        [ 0.04984027],\n",
       "        [ 0.11127556],\n",
       "        [ 0.06169621],\n",
       "        [ 0.01427248],\n",
       "        [ 0.04768465],\n",
       "        [ 0.01211685],\n",
       "        [ 0.00564998],\n",
       "        [ 0.04660684],\n",
       "        [ 0.12852056],\n",
       "        [ 0.05954058],\n",
       "        [ 0.09295276],\n",
       "        [ 0.01535029],\n",
       "        [-0.00512814],\n",
       "        [ 0.0703187 ],\n",
       "        [-0.00405033],\n",
       "        [-0.00081689],\n",
       "        [-0.04392938],\n",
       "        [ 0.02073935],\n",
       "        [ 0.06061839],\n",
       "        [-0.0105172 ],\n",
       "        [-0.03315126],\n",
       "        [-0.06548562],\n",
       "        [ 0.0433734 ],\n",
       "        [-0.06225218],\n",
       "        [ 0.06385183],\n",
       "        [ 0.03043966],\n",
       "        [ 0.07247433],\n",
       "        [-0.0191397 ],\n",
       "        [-0.06656343],\n",
       "        [-0.06009656],\n",
       "        [ 0.06924089],\n",
       "        [ 0.05954058],\n",
       "        [-0.02668438],\n",
       "        [-0.02021751],\n",
       "        [-0.046085  ],\n",
       "        [ 0.07139652],\n",
       "        [-0.07949718],\n",
       "        [ 0.00996123],\n",
       "        [-0.03854032],\n",
       "        [ 0.01966154],\n",
       "        [ 0.02720622],\n",
       "        [-0.00836158],\n",
       "        [-0.01590626],\n",
       "        [ 0.00457217],\n",
       "        [-0.04285156],\n",
       "        [ 0.00564998],\n",
       "        [-0.03530688],\n",
       "        [ 0.02397278],\n",
       "        [-0.01806189],\n",
       "        [ 0.04229559],\n",
       "        [-0.0547075 ],\n",
       "        [-0.00297252],\n",
       "        [-0.06656343],\n",
       "        [-0.01267283],\n",
       "        [-0.04177375],\n",
       "        [-0.03099563],\n",
       "        [-0.00512814],\n",
       "        [-0.05901875],\n",
       "        [ 0.0250506 ],\n",
       "        [-0.046085  ],\n",
       "        [ 0.00349435],\n",
       "        [ 0.05415152],\n",
       "        [-0.04500719],\n",
       "        [-0.05794093],\n",
       "        [-0.05578531],\n",
       "        [ 0.00133873],\n",
       "        [ 0.03043966],\n",
       "        [ 0.00672779],\n",
       "        [ 0.04660684],\n",
       "        [ 0.02612841],\n",
       "        [ 0.04552903],\n",
       "        [ 0.04013997],\n",
       "        [-0.01806189],\n",
       "        [ 0.01427248],\n",
       "        [ 0.03690653],\n",
       "        [ 0.00349435],\n",
       "        [-0.07087468],\n",
       "        [-0.03315126],\n",
       "        [ 0.09403057],\n",
       "        [ 0.03582872],\n",
       "        [ 0.03151747],\n",
       "        [-0.06548562],\n",
       "        [-0.04177375],\n",
       "        [-0.03961813],\n",
       "        [-0.03854032],\n",
       "        [-0.02560657],\n",
       "        [-0.02345095],\n",
       "        [-0.06656343],\n",
       "        [ 0.03259528],\n",
       "        [-0.046085  ],\n",
       "        [-0.02991782],\n",
       "        [-0.01267283],\n",
       "        [-0.01590626],\n",
       "        [ 0.07139652],\n",
       "        [-0.03099563],\n",
       "        [ 0.00026092],\n",
       "        [ 0.03690653],\n",
       "        [ 0.03906215],\n",
       "        [-0.01482845],\n",
       "        [ 0.00672779],\n",
       "        [-0.06871905],\n",
       "        [-0.00943939],\n",
       "        [ 0.01966154],\n",
       "        [ 0.07462995],\n",
       "        [-0.00836158],\n",
       "        [-0.02345095],\n",
       "        [-0.046085  ],\n",
       "        [ 0.05415152],\n",
       "        [-0.03530688],\n",
       "        [-0.03207344],\n",
       "        [-0.0816528 ],\n",
       "        [ 0.04768465],\n",
       "        [ 0.06061839],\n",
       "        [ 0.05630715],\n",
       "        [ 0.09834182],\n",
       "        [ 0.05954058],\n",
       "        [ 0.03367309],\n",
       "        [ 0.05630715],\n",
       "        [-0.06548562],\n",
       "        [ 0.16085492],\n",
       "        [-0.05578531],\n",
       "        [-0.02452876],\n",
       "        [-0.03638469],\n",
       "        [-0.00836158],\n",
       "        [-0.04177375],\n",
       "        [ 0.12744274],\n",
       "        [-0.07734155],\n",
       "        [ 0.02828403],\n",
       "        [-0.02560657],\n",
       "        [-0.06225218],\n",
       "        [-0.00081689],\n",
       "        [ 0.08864151],\n",
       "        [-0.03207344],\n",
       "        [ 0.03043966],\n",
       "        [ 0.00888341],\n",
       "        [ 0.00672779],\n",
       "        [-0.02021751],\n",
       "        [-0.02452876],\n",
       "        [-0.01159501],\n",
       "        [ 0.02612841],\n",
       "        [-0.05901875],\n",
       "        [-0.03638469],\n",
       "        [-0.02452876],\n",
       "        [ 0.01858372],\n",
       "        [-0.0902753 ],\n",
       "        [-0.00512814],\n",
       "        [-0.05255187],\n",
       "        [-0.02237314],\n",
       "        [-0.02021751],\n",
       "        [-0.0547075 ],\n",
       "        [-0.00620595],\n",
       "        [-0.01698407],\n",
       "        [ 0.05522933],\n",
       "        [ 0.07678558],\n",
       "        [ 0.01858372],\n",
       "        [-0.02237314],\n",
       "        [ 0.09295276],\n",
       "        [-0.03099563],\n",
       "        [ 0.03906215],\n",
       "        [-0.06117437],\n",
       "        [-0.00836158],\n",
       "        [-0.0374625 ],\n",
       "        [-0.01375064],\n",
       "        [ 0.07355214],\n",
       "        [-0.02452876],\n",
       "        [ 0.03367309],\n",
       "        [ 0.0347509 ],\n",
       "        [-0.03854032],\n",
       "        [-0.03961813],\n",
       "        [-0.00189471],\n",
       "        [-0.03099563],\n",
       "        [-0.046085  ],\n",
       "        [ 0.00133873],\n",
       "        [ 0.06492964],\n",
       "        [ 0.04013997],\n",
       "        [-0.02345095],\n",
       "        [ 0.05307371],\n",
       "        [ 0.04013997],\n",
       "        [-0.02021751],\n",
       "        [ 0.01427248],\n",
       "        [-0.03422907],\n",
       "        [ 0.00672779],\n",
       "        [ 0.00457217],\n",
       "        [ 0.03043966],\n",
       "        [ 0.0519959 ],\n",
       "        [ 0.06169621],\n",
       "        [-0.00728377],\n",
       "        [ 0.00564998],\n",
       "        [ 0.05415152],\n",
       "        [-0.00836158],\n",
       "        [ 0.114509  ],\n",
       "        [ 0.06708527],\n",
       "        [-0.05578531],\n",
       "        [ 0.03043966],\n",
       "        [-0.02560657],\n",
       "        [ 0.10480869],\n",
       "        [-0.00620595],\n",
       "        [-0.04716281],\n",
       "        [-0.04824063],\n",
       "        [ 0.08540807],\n",
       "        [-0.01267283],\n",
       "        [-0.03315126],\n",
       "        [-0.00728377],\n",
       "        [-0.01375064],\n",
       "        [ 0.05954058],\n",
       "        [ 0.02181716],\n",
       "        [ 0.01858372],\n",
       "        [-0.01159501],\n",
       "        [-0.00297252],\n",
       "        [ 0.01750591],\n",
       "        [-0.02991782],\n",
       "        [-0.02021751],\n",
       "        [-0.05794093],\n",
       "        [ 0.06061839],\n",
       "        [-0.04069594],\n",
       "        [-0.07195249],\n",
       "        [-0.05578531],\n",
       "        [ 0.04552903],\n",
       "        [-0.00943939],\n",
       "        [-0.03315126],\n",
       "        [ 0.04984027],\n",
       "        [-0.08488624],\n",
       "        [ 0.00564998],\n",
       "        [ 0.02073935],\n",
       "        [-0.00728377],\n",
       "        [ 0.10480869],\n",
       "        [-0.02452876],\n",
       "        [-0.00620595],\n",
       "        [-0.03854032],\n",
       "        [ 0.13714305],\n",
       "        [ 0.17055523],\n",
       "        [ 0.00241654],\n",
       "        [ 0.03798434],\n",
       "        [-0.05794093],\n",
       "        [-0.00943939],\n",
       "        [-0.02345095],\n",
       "        [-0.0105172 ],\n",
       "        [-0.03422907],\n",
       "        [-0.00297252],\n",
       "        [ 0.06816308],\n",
       "        [ 0.00996123],\n",
       "        [ 0.00241654],\n",
       "        [-0.03854032],\n",
       "        [ 0.02612841],\n",
       "        [-0.08919748],\n",
       "        [ 0.06061839],\n",
       "        [-0.02884001],\n",
       "        [-0.02991782],\n",
       "        [-0.0191397 ],\n",
       "        [-0.04069594],\n",
       "        [ 0.01535029],\n",
       "        [-0.02452876],\n",
       "        [ 0.00133873],\n",
       "        [ 0.06924089],\n",
       "        [-0.06979687],\n",
       "        [-0.02991782],\n",
       "        [-0.046085  ],\n",
       "        [ 0.01858372],\n",
       "        [ 0.00133873],\n",
       "        [-0.03099563],\n",
       "        [-0.00405033],\n",
       "        [ 0.01535029],\n",
       "        [ 0.02289497],\n",
       "        [ 0.04552903],\n",
       "        [-0.04500719],\n",
       "        [-0.03315126],\n",
       "        [ 0.097264  ],\n",
       "        [ 0.05415152],\n",
       "        [ 0.12313149],\n",
       "        [-0.08057499],\n",
       "        [ 0.09295276],\n",
       "        [-0.05039625],\n",
       "        [-0.01159501],\n",
       "        [-0.0277622 ],\n",
       "        [ 0.05846277],\n",
       "        [ 0.08540807],\n",
       "        [-0.00081689],\n",
       "        [ 0.00672779],\n",
       "        [ 0.00888341],\n",
       "        [ 0.08001901],\n",
       "        [ 0.07139652],\n",
       "        [-0.02452876],\n",
       "        [-0.0547075 ],\n",
       "        [-0.03638469],\n",
       "        [ 0.0164281 ],\n",
       "        [ 0.07786339],\n",
       "        [-0.03961813],\n",
       "        [ 0.01103904],\n",
       "        [-0.04069594],\n",
       "        [-0.03422907],\n",
       "        [ 0.00564998],\n",
       "        [ 0.08864151],\n",
       "        [-0.03315126],\n",
       "        [-0.05686312],\n",
       "        [-0.03099563],\n",
       "        [ 0.05522933],\n",
       "        [-0.06009656],\n",
       "        [ 0.00133873],\n",
       "        [-0.02345095],\n",
       "        [-0.07410811],\n",
       "        [ 0.01966154],\n",
       "        [-0.01590626],\n",
       "        [-0.01590626],\n",
       "        [ 0.03906215],\n",
       "        [-0.0730303 ]]),\n",
       " array([151.,  75., 141., 206., 135.,  97., 138.,  63., 110., 310., 101.,\n",
       "         69., 179., 185., 118., 171., 166., 144.,  97., 168.,  68.,  49.,\n",
       "         68., 245., 184., 202., 137.,  85., 131., 283., 129.,  59., 341.,\n",
       "         87.,  65., 102., 265., 276., 252.,  90., 100.,  55.,  61.,  92.,\n",
       "        259.,  53., 190., 142.,  75., 142., 155., 225.,  59., 104., 182.,\n",
       "        128.,  52.,  37., 170., 170.,  61., 144.,  52., 128.,  71., 163.,\n",
       "        150.,  97., 160., 178.,  48., 270., 202., 111.,  85.,  42., 170.,\n",
       "        200., 252., 113., 143.,  51.,  52., 210.,  65., 141.,  55., 134.,\n",
       "         42., 111.,  98., 164.,  48.,  96.,  90., 162., 150., 279.,  92.,\n",
       "         83., 128., 102., 302., 198.,  95.,  53., 134., 144., 232.,  81.,\n",
       "        104.,  59., 246., 297., 258., 229., 275., 281., 179., 200., 200.,\n",
       "        173., 180.,  84., 121., 161.,  99., 109., 115., 268., 274., 158.,\n",
       "        107.,  83., 103., 272.,  85., 280., 336., 281., 118., 317., 235.,\n",
       "         60., 174., 259., 178., 128.,  96., 126., 288.,  88., 292.,  71.,\n",
       "        197., 186.,  25.,  84.,  96., 195.,  53., 217., 172., 131., 214.,\n",
       "         59.,  70., 220., 268., 152.,  47.,  74., 295., 101., 151., 127.,\n",
       "        237., 225.,  81., 151., 107.,  64., 138., 185., 265., 101., 137.,\n",
       "        143., 141.,  79., 292., 178.,  91., 116.,  86., 122.,  72., 129.,\n",
       "        142.,  90., 158.,  39., 196., 222., 277.,  99., 196., 202., 155.,\n",
       "         77., 191.,  70.,  73.,  49.,  65., 263., 248., 296., 214., 185.,\n",
       "         78.,  93., 252., 150.,  77., 208.,  77., 108., 160.,  53., 220.,\n",
       "        154., 259.,  90., 246., 124.,  67.,  72., 257., 262., 275., 177.,\n",
       "         71.,  47., 187., 125.,  78.,  51., 258., 215., 303., 243.,  91.,\n",
       "        150., 310., 153., 346.,  63.,  89.,  50.,  39., 103., 308., 116.,\n",
       "        145.,  74.,  45., 115., 264.,  87., 202., 127., 182., 241.,  66.,\n",
       "         94., 283.,  64., 102., 200., 265.,  94., 230., 181., 156., 233.,\n",
       "         60., 219.,  80.,  68., 332., 248.,  84., 200.,  55.,  85.,  89.,\n",
       "         31., 129.,  83., 275.,  65., 198., 236., 253., 124.,  44., 172.,\n",
       "        114., 142., 109., 180., 144., 163., 147.,  97., 220., 190., 109.,\n",
       "        191., 122., 230., 242., 248., 249., 192., 131., 237.,  78., 135.,\n",
       "        244., 199., 270., 164.,  72.,  96., 306.,  91., 214.,  95., 216.,\n",
       "        263., 178., 113., 200., 139., 139.,  88., 148.,  88., 243.,  71.,\n",
       "         77., 109., 272.,  60.,  54., 221.,  90., 311., 281., 182., 321.,\n",
       "         58., 262., 206., 233., 242., 123., 167.,  63., 197.,  71., 168.,\n",
       "        140., 217., 121., 235., 245.,  40.,  52., 104., 132.,  88.,  69.,\n",
       "        219.,  72., 201., 110.,  51., 277.,  63., 118.,  69., 273., 258.,\n",
       "         43., 198., 242., 232., 175.,  93., 168., 275., 293., 281.,  72.,\n",
       "        140., 189., 181., 209., 136., 261., 113., 131., 174., 257.,  55.,\n",
       "         84.,  42., 146., 212., 233.,  91., 111., 152., 120.,  67., 310.,\n",
       "         94., 183.,  66., 173.,  72.,  49.,  64.,  48., 178., 104., 132.,\n",
       "        220.,  57.]))"
      ]
     },
     "execution_count": 147,
     "metadata": {},
     "output_type": "execute_result"
    }
   ],
   "source": [
    "softmax "
   ]
  },
  {
   "cell_type": "code",
   "execution_count": 148,
   "id": "66ba557f",
   "metadata": {},
   "outputs": [
    {
     "ename": "AttributeError",
     "evalue": "'tuple' object has no attribute 'fit'",
     "output_type": "error",
     "traceback": [
      "\u001b[0;31m---------------------------------------------------------------------------\u001b[0m",
      "\u001b[0;31mAttributeError\u001b[0m                            Traceback (most recent call last)",
      "\u001b[0;32m<ipython-input-148-1daac3ccd0ed>\u001b[0m in \u001b[0;36m<module>\u001b[0;34m\u001b[0m\n\u001b[0;32m----> 1\u001b[0;31m \u001b[0msoftmax\u001b[0m\u001b[0;34m.\u001b[0m\u001b[0mfit\u001b[0m\u001b[0;34m(\u001b[0m\u001b[0mtest_diabetes\u001b[0m\u001b[0;34m,\u001b[0m \u001b[0mtrain_diabetes\u001b[0m\u001b[0;34m)\u001b[0m\u001b[0;34m\u001b[0m\u001b[0;34m\u001b[0m\u001b[0m\n\u001b[0m",
      "\u001b[0;31mAttributeError\u001b[0m: 'tuple' object has no attribute 'fit'"
     ]
    }
   ],
   "source": [
    "softmax.fit(test_diabetes, train_diabetes)"
   ]
  },
  {
   "cell_type": "code",
   "execution_count": 149,
   "id": "11060781",
   "metadata": {},
   "outputs": [
    {
     "data": {
      "text/plain": [
       "array([310.,  48., 310.,  48.,  48.,  48.,  48., 310., 310., 310.,  48.,\n",
       "       310.,  48., 310.,  48.,  48., 310., 310.,  48.,  48.,  48.,  48.,\n",
       "       310., 310., 310.,  48.,  48., 310.,  48., 310., 310.,  48., 310.,\n",
       "        48.,  48.,  48., 310., 310., 310., 310., 310.,  48.,  48.,  48.,\n",
       "       310.,  48.,  48.,  48.,  48., 310., 310., 310., 310.,  48., 310.,\n",
       "        48., 310.,  48.,  48.,  48., 310., 310., 310.,  48.,  48.,  48.,\n",
       "        48.,  48.,  48.,  48.,  48., 310., 310.,  48., 310.,  48., 310.,\n",
       "        48.,  48.,  48., 310.,  48.,  48., 310.,  48., 310.,  48., 310.,\n",
       "        48.,  48.,  48., 310., 310.,  48.,  48.,  48., 310., 310., 310.,\n",
       "        48., 310.,  48., 310., 310., 310.,  48.,  48., 310., 310., 310.,\n",
       "        48., 310., 310., 310., 310., 310., 310.,  48.,  48.,  48., 310.,\n",
       "       310., 310., 310., 310., 310.,  48., 310.,  48., 310., 310.,  48.,\n",
       "        48.,  48., 310., 310.,  48., 310., 310., 310., 310., 310., 310.,\n",
       "       310., 310., 310., 310., 310., 310., 310., 310., 310., 310.,  48.,\n",
       "       310., 310.,  48.,  48.,  48., 310.,  48., 310., 310., 310.,  48.,\n",
       "        48.,  48., 310., 310.,  48.,  48.,  48., 310.,  48., 310.,  48.,\n",
       "       310., 310., 310.,  48., 310.,  48., 310.,  48., 310.,  48., 310.,\n",
       "        48., 310.,  48.,  48.,  48.,  48., 310.,  48., 310.,  48., 310.,\n",
       "       310.,  48.,  48.,  48., 310., 310., 310., 310., 310., 310., 310.,\n",
       "        48., 310., 310., 310.,  48.,  48., 310., 310., 310.,  48.,  48.,\n",
       "        48.,  48.,  48.,  48.,  48., 310.,  48.,  48.,  48.,  48., 310.,\n",
       "        48., 310., 310., 310.,  48., 310.,  48., 310., 310., 310., 310.,\n",
       "        48.,  48., 310.,  48.,  48.,  48., 310., 310., 310., 310., 310.,\n",
       "       310., 310.,  48., 310.,  48.,  48.,  48., 310.,  48., 310.,  48.,\n",
       "       310.,  48.,  48., 310., 310.,  48., 310., 310., 310.,  48.,  48.,\n",
       "        48., 310.,  48.,  48.,  48., 310.,  48., 310.,  48.,  48.,  48.,\n",
       "        48., 310.,  48., 310., 310., 310.,  48., 310.,  48., 310.,  48.,\n",
       "       310.,  48.,  48., 310.,  48., 310., 310.,  48.,  48., 310.,  48.,\n",
       "        48., 310., 310., 310.,  48., 310., 310.,  48., 310.,  48., 310.,\n",
       "       310., 310., 310., 310., 310., 310., 310., 310., 310., 310.,  48.,\n",
       "       310.,  48., 310., 310.,  48.,  48., 310.,  48.,  48., 310.,  48.,\n",
       "       310., 310., 310.,  48., 310., 310.,  48.,  48.,  48., 310.,  48.,\n",
       "        48.,  48., 310., 310.,  48., 310.,  48., 310., 310., 310., 310.,\n",
       "        48., 310.,  48., 310., 310., 310., 310.,  48., 310.,  48.,  48.,\n",
       "        48., 310., 310., 310., 310.,  48., 310.,  48., 310.,  48.,  48.,\n",
       "        48.,  48., 310.,  48., 310., 310.,  48.,  48.,  48., 310., 310.,\n",
       "        48., 310., 310., 310., 310.,  48.,  48., 310., 310., 310.,  48.,\n",
       "       310.,  48.,  48.,  48., 310., 310., 310., 310., 310., 310., 310.,\n",
       "        48.,  48.,  48., 310., 310.,  48., 310.,  48.,  48., 310., 310.,\n",
       "        48.,  48.,  48., 310.,  48., 310.,  48.,  48., 310.,  48.,  48.,\n",
       "       310.,  48.])"
      ]
     },
     "execution_count": 149,
     "metadata": {},
     "output_type": "execute_result"
    }
   ],
   "source": [
    "y_predict = log_reg.predict(test_diabetes)\n",
    "y_predict"
   ]
  },
  {
   "cell_type": "code",
   "execution_count": 153,
   "id": "fa1b1fad",
   "metadata": {},
   "outputs": [
    {
     "name": "stdout",
     "output_type": "stream",
     "text": [
      "              precision    recall  f1-score   support\n",
      "\n",
      "        25.0       0.00      0.00      0.00         1\n",
      "        31.0       0.00      0.00      0.00         1\n",
      "        37.0       0.00      0.00      0.00         1\n",
      "        39.0       0.00      0.00      0.00         2\n",
      "        40.0       0.00      0.00      0.00         1\n",
      "        42.0       0.00      0.00      0.00         3\n",
      "        43.0       0.00      0.00      0.00         1\n",
      "        44.0       0.00      0.00      0.00         1\n",
      "        45.0       0.00      0.00      0.00         1\n",
      "        47.0       0.00      0.00      0.00         2\n",
      "        48.0       0.01      0.67      0.02         3\n",
      "        49.0       0.00      0.00      0.00         3\n",
      "        50.0       0.00      0.00      0.00         1\n",
      "        51.0       0.00      0.00      0.00         3\n",
      "        52.0       0.00      0.00      0.00         4\n",
      "        53.0       0.00      0.00      0.00         4\n",
      "        54.0       0.00      0.00      0.00         1\n",
      "        55.0       0.00      0.00      0.00         4\n",
      "        57.0       0.00      0.00      0.00         1\n",
      "        58.0       0.00      0.00      0.00         1\n",
      "        59.0       0.00      0.00      0.00         4\n",
      "        60.0       0.00      0.00      0.00         3\n",
      "        61.0       0.00      0.00      0.00         2\n",
      "        63.0       0.00      0.00      0.00         4\n",
      "        64.0       0.00      0.00      0.00         3\n",
      "        65.0       0.00      0.00      0.00         4\n",
      "        66.0       0.00      0.00      0.00         2\n",
      "        67.0       0.00      0.00      0.00         2\n",
      "        68.0       0.00      0.00      0.00         3\n",
      "        69.0       0.00      0.00      0.00         3\n",
      "        70.0       0.00      0.00      0.00         2\n",
      "        71.0       0.00      0.00      0.00         5\n",
      "        72.0       0.00      0.00      0.00         6\n",
      "        73.0       0.00      0.00      0.00         1\n",
      "        74.0       0.00      0.00      0.00         2\n",
      "        75.0       0.00      0.00      0.00         2\n",
      "        77.0       0.00      0.00      0.00         4\n",
      "        78.0       0.00      0.00      0.00         3\n",
      "        79.0       0.00      0.00      0.00         1\n",
      "        80.0       0.00      0.00      0.00         1\n",
      "        81.0       0.00      0.00      0.00         2\n",
      "        83.0       0.00      0.00      0.00         3\n",
      "        84.0       0.00      0.00      0.00         4\n",
      "        85.0       0.00      0.00      0.00         4\n",
      "        86.0       0.00      0.00      0.00         1\n",
      "        87.0       0.00      0.00      0.00         2\n",
      "        88.0       0.00      0.00      0.00         4\n",
      "        89.0       0.00      0.00      0.00         2\n",
      "        90.0       0.00      0.00      0.00         5\n",
      "        91.0       0.00      0.00      0.00         4\n",
      "        92.0       0.00      0.00      0.00         2\n",
      "        93.0       0.00      0.00      0.00         2\n",
      "        94.0       0.00      0.00      0.00         3\n",
      "        95.0       0.00      0.00      0.00         2\n",
      "        96.0       0.00      0.00      0.00         4\n",
      "        97.0       0.00      0.00      0.00         4\n",
      "        98.0       0.00      0.00      0.00         1\n",
      "        99.0       0.00      0.00      0.00         2\n",
      "       100.0       0.00      0.00      0.00         1\n",
      "       101.0       0.00      0.00      0.00         3\n",
      "       102.0       0.00      0.00      0.00         3\n",
      "       103.0       0.00      0.00      0.00         2\n",
      "       104.0       0.00      0.00      0.00         4\n",
      "       107.0       0.00      0.00      0.00         2\n",
      "       108.0       0.00      0.00      0.00         1\n",
      "       109.0       0.00      0.00      0.00         4\n",
      "       110.0       0.00      0.00      0.00         2\n",
      "       111.0       0.00      0.00      0.00         3\n",
      "       113.0       0.00      0.00      0.00         3\n",
      "       114.0       0.00      0.00      0.00         1\n",
      "       115.0       0.00      0.00      0.00         2\n",
      "       116.0       0.00      0.00      0.00         2\n",
      "       118.0       0.00      0.00      0.00         3\n",
      "       120.0       0.00      0.00      0.00         1\n",
      "       121.0       0.00      0.00      0.00         2\n",
      "       122.0       0.00      0.00      0.00         2\n",
      "       123.0       0.00      0.00      0.00         1\n",
      "       124.0       0.00      0.00      0.00         2\n",
      "       125.0       0.00      0.00      0.00         1\n",
      "       126.0       0.00      0.00      0.00         1\n",
      "       127.0       0.00      0.00      0.00         2\n",
      "       128.0       0.00      0.00      0.00         4\n",
      "       129.0       0.00      0.00      0.00         3\n",
      "       131.0       0.00      0.00      0.00         4\n",
      "       132.0       0.00      0.00      0.00         2\n",
      "       134.0       0.00      0.00      0.00         2\n",
      "       135.0       0.00      0.00      0.00         2\n",
      "       136.0       0.00      0.00      0.00         1\n",
      "       137.0       0.00      0.00      0.00         2\n",
      "       138.0       0.00      0.00      0.00         2\n",
      "       139.0       0.00      0.00      0.00         2\n",
      "       140.0       0.00      0.00      0.00         2\n",
      "       141.0       0.00      0.00      0.00         3\n",
      "       142.0       0.00      0.00      0.00         4\n",
      "       143.0       0.00      0.00      0.00         2\n",
      "       144.0       0.00      0.00      0.00         4\n",
      "       145.0       0.00      0.00      0.00         1\n",
      "       146.0       0.00      0.00      0.00         1\n",
      "       147.0       0.00      0.00      0.00         1\n",
      "       148.0       0.00      0.00      0.00         1\n",
      "       150.0       0.00      0.00      0.00         4\n",
      "       151.0       0.00      0.00      0.00         3\n",
      "       152.0       0.00      0.00      0.00         2\n",
      "       153.0       0.00      0.00      0.00         1\n",
      "       154.0       0.00      0.00      0.00         1\n",
      "       155.0       0.00      0.00      0.00         2\n",
      "       156.0       0.00      0.00      0.00         1\n",
      "       158.0       0.00      0.00      0.00         2\n",
      "       160.0       0.00      0.00      0.00         2\n",
      "       161.0       0.00      0.00      0.00         1\n",
      "       162.0       0.00      0.00      0.00         1\n",
      "       163.0       0.00      0.00      0.00         2\n",
      "       164.0       0.00      0.00      0.00         2\n",
      "       166.0       0.00      0.00      0.00         1\n",
      "       167.0       0.00      0.00      0.00         1\n",
      "       168.0       0.00      0.00      0.00         3\n",
      "       170.0       0.00      0.00      0.00         3\n",
      "       171.0       0.00      0.00      0.00         1\n",
      "       172.0       0.00      0.00      0.00         2\n",
      "       173.0       0.00      0.00      0.00         2\n",
      "       174.0       0.00      0.00      0.00         2\n",
      "       175.0       0.00      0.00      0.00         1\n",
      "       177.0       0.00      0.00      0.00         1\n",
      "       178.0       0.00      0.00      0.00         5\n",
      "       179.0       0.00      0.00      0.00         2\n",
      "       180.0       0.00      0.00      0.00         2\n",
      "       181.0       0.00      0.00      0.00         2\n",
      "       182.0       0.00      0.00      0.00         3\n",
      "       183.0       0.00      0.00      0.00         1\n",
      "       184.0       0.00      0.00      0.00         1\n",
      "       185.0       0.00      0.00      0.00         3\n",
      "       186.0       0.00      0.00      0.00         1\n",
      "       187.0       0.00      0.00      0.00         1\n",
      "       189.0       0.00      0.00      0.00         1\n",
      "       190.0       0.00      0.00      0.00         2\n",
      "       191.0       0.00      0.00      0.00         2\n",
      "       192.0       0.00      0.00      0.00         1\n",
      "       195.0       0.00      0.00      0.00         1\n",
      "       196.0       0.00      0.00      0.00         2\n",
      "       197.0       0.00      0.00      0.00         2\n",
      "       198.0       0.00      0.00      0.00         3\n",
      "       199.0       0.00      0.00      0.00         1\n",
      "       200.0       0.00      0.00      0.00         6\n",
      "       201.0       0.00      0.00      0.00         1\n",
      "       202.0       0.00      0.00      0.00         4\n",
      "       206.0       0.00      0.00      0.00         2\n",
      "       208.0       0.00      0.00      0.00         1\n",
      "       209.0       0.00      0.00      0.00         1\n",
      "       210.0       0.00      0.00      0.00         1\n",
      "       212.0       0.00      0.00      0.00         1\n",
      "       214.0       0.00      0.00      0.00         3\n",
      "       215.0       0.00      0.00      0.00         1\n",
      "       216.0       0.00      0.00      0.00         1\n",
      "       217.0       0.00      0.00      0.00         2\n",
      "       219.0       0.00      0.00      0.00         2\n",
      "       220.0       0.00      0.00      0.00         4\n",
      "       221.0       0.00      0.00      0.00         1\n",
      "       222.0       0.00      0.00      0.00         1\n",
      "       225.0       0.00      0.00      0.00         2\n",
      "       229.0       0.00      0.00      0.00         1\n",
      "       230.0       0.00      0.00      0.00         2\n",
      "       232.0       0.00      0.00      0.00         2\n",
      "       233.0       0.00      0.00      0.00         3\n",
      "       235.0       0.00      0.00      0.00         2\n",
      "       236.0       0.00      0.00      0.00         1\n",
      "       237.0       0.00      0.00      0.00         2\n",
      "       241.0       0.00      0.00      0.00         1\n",
      "       242.0       0.00      0.00      0.00         3\n",
      "       243.0       0.00      0.00      0.00         2\n",
      "       244.0       0.00      0.00      0.00         1\n",
      "       245.0       0.00      0.00      0.00         2\n",
      "       246.0       0.00      0.00      0.00         2\n",
      "       248.0       0.00      0.00      0.00         3\n",
      "       249.0       0.00      0.00      0.00         1\n",
      "       252.0       0.00      0.00      0.00         3\n",
      "       253.0       0.00      0.00      0.00         1\n",
      "       257.0       0.00      0.00      0.00         2\n",
      "       258.0       0.00      0.00      0.00         3\n",
      "       259.0       0.00      0.00      0.00         3\n",
      "       261.0       0.00      0.00      0.00         1\n",
      "       262.0       0.00      0.00      0.00         2\n",
      "       263.0       0.00      0.00      0.00         2\n",
      "       264.0       0.00      0.00      0.00         1\n",
      "       265.0       0.00      0.00      0.00         3\n",
      "       268.0       0.00      0.00      0.00         2\n",
      "       270.0       0.00      0.00      0.00         2\n",
      "       272.0       0.00      0.00      0.00         2\n",
      "       273.0       0.00      0.00      0.00         1\n",
      "       274.0       0.00      0.00      0.00         1\n",
      "       275.0       0.00      0.00      0.00         4\n",
      "       276.0       0.00      0.00      0.00         1\n",
      "       277.0       0.00      0.00      0.00         2\n",
      "       279.0       0.00      0.00      0.00         1\n",
      "       280.0       0.00      0.00      0.00         1\n",
      "       281.0       0.00      0.00      0.00         4\n",
      "       283.0       0.00      0.00      0.00         2\n",
      "       288.0       0.00      0.00      0.00         1\n",
      "       292.0       0.00      0.00      0.00         2\n",
      "       293.0       0.00      0.00      0.00         1\n",
      "       295.0       0.00      0.00      0.00         1\n",
      "       296.0       0.00      0.00      0.00         1\n",
      "       297.0       0.00      0.00      0.00         1\n",
      "       302.0       0.00      0.00      0.00         1\n",
      "       303.0       0.00      0.00      0.00         1\n",
      "       306.0       0.00      0.00      0.00         1\n",
      "       308.0       0.00      0.00      0.00         1\n",
      "       310.0       0.01      1.00      0.03         3\n",
      "       311.0       0.00      0.00      0.00         1\n",
      "       317.0       0.00      0.00      0.00         1\n",
      "       321.0       0.00      0.00      0.00         1\n",
      "       332.0       0.00      0.00      0.00         1\n",
      "       336.0       0.00      0.00      0.00         1\n",
      "       341.0       0.00      0.00      0.00         1\n",
      "       346.0       0.00      0.00      0.00         1\n",
      "\n",
      "    accuracy                           0.01       442\n",
      "   macro avg       0.00      0.01      0.00       442\n",
      "weighted avg       0.00      0.01      0.00       442\n",
      "\n"
     ]
    },
    {
     "name": "stderr",
     "output_type": "stream",
     "text": [
      "/usr/local/lib/python3.8/dist-packages/sklearn/metrics/_classification.py:1221: UndefinedMetricWarning:\n",
      "\n",
      "Precision and F-score are ill-defined and being set to 0.0 in labels with no predicted samples. Use `zero_division` parameter to control this behavior.\n",
      "\n"
     ]
    }
   ],
   "source": [
    "print(classification_report(train_diabetes, y_predict))"
   ]
  },
  {
   "cell_type": "code",
   "execution_count": 161,
   "id": "8fd5da7b",
   "metadata": {},
   "outputs": [
    {
     "name": "stdout",
     "output_type": "stream",
     "text": [
      "F1:  0.0002067446658472967\n",
      "Precision:  0.00010476916948998753\n",
      "Recall:  0.0077881619937694695\n",
      "Accuracy:  0.011312217194570135\n"
     ]
    }
   ],
   "source": [
    "f1 = f1_score(train_diabetes, y_predict, average=\"macro\")\n",
    "precision = precision_score(train_diabetes, y_predict, average=\"macro\")\n",
    "recall = recall_score(train_diabetes, y_predict, average=\"macro\")\n",
    "accuracy = accuracy_score(train_diabetes, y_predict, normalize=True)\n",
    "print('F1: ',f1)\n",
    "print('Precision: ', precision)\n",
    "print('Recall: ', recall)\n",
    "print('Accuracy: ', accuracy)"
   ]
  },
  {
   "cell_type": "code",
   "execution_count": null,
   "id": "fc60264f",
   "metadata": {},
   "outputs": [],
   "source": []
  }
 ],
 "metadata": {
  "kernelspec": {
   "display_name": "Python 3",
   "language": "python",
   "name": "python3"
  },
  "language_info": {
   "codemirror_mode": {
    "name": "ipython",
    "version": 3
   },
   "file_extension": ".py",
   "mimetype": "text/x-python",
   "name": "python",
   "nbconvert_exporter": "python",
   "pygments_lexer": "ipython3",
   "version": "3.8.10"
  }
 },
 "nbformat": 4,
 "nbformat_minor": 5
}
